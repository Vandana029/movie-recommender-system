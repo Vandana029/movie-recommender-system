{
 "cells": [
  {
   "cell_type": "code",
   "execution_count": 1,
   "metadata": {
    "execution": {
     "iopub.execute_input": "2025-09-04T04:43:40.340547Z",
     "iopub.status.busy": "2025-09-04T04:43:40.340393Z",
     "iopub.status.idle": "2025-09-04T04:43:42.900029Z",
     "shell.execute_reply": "2025-09-04T04:43:42.899334Z",
     "shell.execute_reply.started": "2025-09-04T04:43:40.340531Z"
    },
    "trusted": true
   },
   "outputs": [],
   "source": [
    "import numpy as np \n",
    "import pandas as pd"
   ]
  },
  {
   "cell_type": "markdown",
   "metadata": {},
   "source": [
    "# Data Loading"
   ]
  },
  {
   "cell_type": "code",
   "execution_count": 2,
   "metadata": {
    "execution": {
     "iopub.execute_input": "2025-09-04T04:44:35.560818Z",
     "iopub.status.busy": "2025-09-04T04:44:35.560533Z",
     "iopub.status.idle": "2025-09-04T04:44:36.764704Z",
     "shell.execute_reply": "2025-09-04T04:44:36.763817Z",
     "shell.execute_reply.started": "2025-09-04T04:44:35.560798Z"
    },
    "trusted": true
   },
   "outputs": [],
   "source": [
    "movies = pd.read_csv('/kaggle/input/tmdb-movie-metadata/tmdb_5000_movies.csv')\n",
    "credits = pd.read_csv('/kaggle/input/tmdb-movie-metadata/tmdb_5000_credits.csv')"
   ]
  },
  {
   "cell_type": "markdown",
   "metadata": {},
   "source": [
    "# Data Processing"
   ]
  },
  {
   "cell_type": "code",
   "execution_count": 4,
   "metadata": {
    "execution": {
     "iopub.execute_input": "2025-09-04T04:46:52.024037Z",
     "iopub.status.busy": "2025-09-04T04:46:52.023783Z",
     "iopub.status.idle": "2025-09-04T04:46:52.037412Z",
     "shell.execute_reply": "2025-09-04T04:46:52.036810Z",
     "shell.execute_reply.started": "2025-09-04T04:46:52.024020Z"
    },
    "trusted": true
   },
   "outputs": [
    {
     "data": {
      "text/html": [
       "<div>\n",
       "<style scoped>\n",
       "    .dataframe tbody tr th:only-of-type {\n",
       "        vertical-align: middle;\n",
       "    }\n",
       "\n",
       "    .dataframe tbody tr th {\n",
       "        vertical-align: top;\n",
       "    }\n",
       "\n",
       "    .dataframe thead th {\n",
       "        text-align: right;\n",
       "    }\n",
       "</style>\n",
       "<table border=\"1\" class=\"dataframe\">\n",
       "  <thead>\n",
       "    <tr style=\"text-align: right;\">\n",
       "      <th></th>\n",
       "      <th>budget</th>\n",
       "      <th>genres</th>\n",
       "      <th>homepage</th>\n",
       "      <th>id</th>\n",
       "      <th>keywords</th>\n",
       "      <th>original_language</th>\n",
       "      <th>original_title</th>\n",
       "      <th>overview</th>\n",
       "      <th>popularity</th>\n",
       "      <th>production_companies</th>\n",
       "      <th>production_countries</th>\n",
       "      <th>release_date</th>\n",
       "      <th>revenue</th>\n",
       "      <th>runtime</th>\n",
       "      <th>spoken_languages</th>\n",
       "      <th>status</th>\n",
       "      <th>tagline</th>\n",
       "      <th>title</th>\n",
       "      <th>vote_average</th>\n",
       "      <th>vote_count</th>\n",
       "    </tr>\n",
       "  </thead>\n",
       "  <tbody>\n",
       "    <tr>\n",
       "      <th>0</th>\n",
       "      <td>237000000</td>\n",
       "      <td>[{\"id\": 28, \"name\": \"Action\"}, {\"id\": 12, \"nam...</td>\n",
       "      <td>http://www.avatarmovie.com/</td>\n",
       "      <td>19995</td>\n",
       "      <td>[{\"id\": 1463, \"name\": \"culture clash\"}, {\"id\":...</td>\n",
       "      <td>en</td>\n",
       "      <td>Avatar</td>\n",
       "      <td>In the 22nd century, a paraplegic Marine is di...</td>\n",
       "      <td>150.437577</td>\n",
       "      <td>[{\"name\": \"Ingenious Film Partners\", \"id\": 289...</td>\n",
       "      <td>[{\"iso_3166_1\": \"US\", \"name\": \"United States o...</td>\n",
       "      <td>2009-12-10</td>\n",
       "      <td>2787965087</td>\n",
       "      <td>162.0</td>\n",
       "      <td>[{\"iso_639_1\": \"en\", \"name\": \"English\"}, {\"iso...</td>\n",
       "      <td>Released</td>\n",
       "      <td>Enter the World of Pandora.</td>\n",
       "      <td>Avatar</td>\n",
       "      <td>7.2</td>\n",
       "      <td>11800</td>\n",
       "    </tr>\n",
       "  </tbody>\n",
       "</table>\n",
       "</div>"
      ],
      "text/plain": [
       "      budget                                             genres  \\\n",
       "0  237000000  [{\"id\": 28, \"name\": \"Action\"}, {\"id\": 12, \"nam...   \n",
       "\n",
       "                      homepage     id  \\\n",
       "0  http://www.avatarmovie.com/  19995   \n",
       "\n",
       "                                            keywords original_language  \\\n",
       "0  [{\"id\": 1463, \"name\": \"culture clash\"}, {\"id\":...                en   \n",
       "\n",
       "  original_title                                           overview  \\\n",
       "0         Avatar  In the 22nd century, a paraplegic Marine is di...   \n",
       "\n",
       "   popularity                               production_companies  \\\n",
       "0  150.437577  [{\"name\": \"Ingenious Film Partners\", \"id\": 289...   \n",
       "\n",
       "                                production_countries release_date     revenue  \\\n",
       "0  [{\"iso_3166_1\": \"US\", \"name\": \"United States o...   2009-12-10  2787965087   \n",
       "\n",
       "   runtime                                   spoken_languages    status  \\\n",
       "0    162.0  [{\"iso_639_1\": \"en\", \"name\": \"English\"}, {\"iso...  Released   \n",
       "\n",
       "                       tagline   title  vote_average  vote_count  \n",
       "0  Enter the World of Pandora.  Avatar           7.2       11800  "
      ]
     },
     "execution_count": 4,
     "metadata": {},
     "output_type": "execute_result"
    }
   ],
   "source": [
    "movies.head(1)"
   ]
  },
  {
   "cell_type": "code",
   "execution_count": 11,
   "metadata": {
    "execution": {
     "iopub.execute_input": "2025-09-04T04:50:27.110470Z",
     "iopub.status.busy": "2025-09-04T04:50:27.110159Z",
     "iopub.status.idle": "2025-09-04T04:50:27.119833Z",
     "shell.execute_reply": "2025-09-04T04:50:27.118531Z",
     "shell.execute_reply.started": "2025-09-04T04:50:27.110451Z"
    },
    "trusted": true
   },
   "outputs": [
    {
     "data": {
      "text/html": [
       "<div>\n",
       "<style scoped>\n",
       "    .dataframe tbody tr th:only-of-type {\n",
       "        vertical-align: middle;\n",
       "    }\n",
       "\n",
       "    .dataframe tbody tr th {\n",
       "        vertical-align: top;\n",
       "    }\n",
       "\n",
       "    .dataframe thead th {\n",
       "        text-align: right;\n",
       "    }\n",
       "</style>\n",
       "<table border=\"1\" class=\"dataframe\">\n",
       "  <thead>\n",
       "    <tr style=\"text-align: right;\">\n",
       "      <th></th>\n",
       "      <th>movie_id</th>\n",
       "      <th>title</th>\n",
       "      <th>cast</th>\n",
       "      <th>crew</th>\n",
       "    </tr>\n",
       "  </thead>\n",
       "  <tbody>\n",
       "    <tr>\n",
       "      <th>0</th>\n",
       "      <td>19995</td>\n",
       "      <td>Avatar</td>\n",
       "      <td>[{\"cast_id\": 242, \"character\": \"Jake Sully\", \"...</td>\n",
       "      <td>[{\"credit_id\": \"52fe48009251416c750aca23\", \"de...</td>\n",
       "    </tr>\n",
       "  </tbody>\n",
       "</table>\n",
       "</div>"
      ],
      "text/plain": [
       "   movie_id   title                                               cast  \\\n",
       "0     19995  Avatar  [{\"cast_id\": 242, \"character\": \"Jake Sully\", \"...   \n",
       "\n",
       "                                                crew  \n",
       "0  [{\"credit_id\": \"52fe48009251416c750aca23\", \"de...  "
      ]
     },
     "execution_count": 11,
     "metadata": {},
     "output_type": "execute_result"
    }
   ],
   "source": [
    "credits.head(1)"
   ]
  },
  {
   "cell_type": "code",
   "execution_count": 19,
   "metadata": {
    "execution": {
     "iopub.execute_input": "2025-09-04T04:58:18.006855Z",
     "iopub.status.busy": "2025-09-04T04:58:18.006564Z",
     "iopub.status.idle": "2025-09-04T04:58:18.019823Z",
     "shell.execute_reply": "2025-09-04T04:58:18.018675Z",
     "shell.execute_reply.started": "2025-09-04T04:58:18.006836Z"
    },
    "trusted": true
   },
   "outputs": [],
   "source": [
    "movies = movies.merge(credits, on='title')"
   ]
  },
  {
   "cell_type": "code",
   "execution_count": 20,
   "metadata": {
    "execution": {
     "iopub.execute_input": "2025-09-04T04:58:22.232407Z",
     "iopub.status.busy": "2025-09-04T04:58:22.232111Z",
     "iopub.status.idle": "2025-09-04T04:58:22.247698Z",
     "shell.execute_reply": "2025-09-04T04:58:22.246885Z",
     "shell.execute_reply.started": "2025-09-04T04:58:22.232378Z"
    },
    "trusted": true
   },
   "outputs": [
    {
     "data": {
      "text/html": [
       "<div>\n",
       "<style scoped>\n",
       "    .dataframe tbody tr th:only-of-type {\n",
       "        vertical-align: middle;\n",
       "    }\n",
       "\n",
       "    .dataframe tbody tr th {\n",
       "        vertical-align: top;\n",
       "    }\n",
       "\n",
       "    .dataframe thead th {\n",
       "        text-align: right;\n",
       "    }\n",
       "</style>\n",
       "<table border=\"1\" class=\"dataframe\">\n",
       "  <thead>\n",
       "    <tr style=\"text-align: right;\">\n",
       "      <th></th>\n",
       "      <th>budget</th>\n",
       "      <th>genres</th>\n",
       "      <th>homepage</th>\n",
       "      <th>id</th>\n",
       "      <th>keywords</th>\n",
       "      <th>original_language</th>\n",
       "      <th>original_title</th>\n",
       "      <th>overview</th>\n",
       "      <th>popularity</th>\n",
       "      <th>production_companies</th>\n",
       "      <th>...</th>\n",
       "      <th>runtime</th>\n",
       "      <th>spoken_languages</th>\n",
       "      <th>status</th>\n",
       "      <th>tagline</th>\n",
       "      <th>title</th>\n",
       "      <th>vote_average</th>\n",
       "      <th>vote_count</th>\n",
       "      <th>movie_id</th>\n",
       "      <th>cast</th>\n",
       "      <th>crew</th>\n",
       "    </tr>\n",
       "  </thead>\n",
       "  <tbody>\n",
       "    <tr>\n",
       "      <th>0</th>\n",
       "      <td>237000000</td>\n",
       "      <td>[{\"id\": 28, \"name\": \"Action\"}, {\"id\": 12, \"nam...</td>\n",
       "      <td>http://www.avatarmovie.com/</td>\n",
       "      <td>19995</td>\n",
       "      <td>[{\"id\": 1463, \"name\": \"culture clash\"}, {\"id\":...</td>\n",
       "      <td>en</td>\n",
       "      <td>Avatar</td>\n",
       "      <td>In the 22nd century, a paraplegic Marine is di...</td>\n",
       "      <td>150.437577</td>\n",
       "      <td>[{\"name\": \"Ingenious Film Partners\", \"id\": 289...</td>\n",
       "      <td>...</td>\n",
       "      <td>162.0</td>\n",
       "      <td>[{\"iso_639_1\": \"en\", \"name\": \"English\"}, {\"iso...</td>\n",
       "      <td>Released</td>\n",
       "      <td>Enter the World of Pandora.</td>\n",
       "      <td>Avatar</td>\n",
       "      <td>7.2</td>\n",
       "      <td>11800</td>\n",
       "      <td>19995</td>\n",
       "      <td>[{\"cast_id\": 242, \"character\": \"Jake Sully\", \"...</td>\n",
       "      <td>[{\"credit_id\": \"52fe48009251416c750aca23\", \"de...</td>\n",
       "    </tr>\n",
       "  </tbody>\n",
       "</table>\n",
       "<p>1 rows × 23 columns</p>\n",
       "</div>"
      ],
      "text/plain": [
       "      budget                                             genres  \\\n",
       "0  237000000  [{\"id\": 28, \"name\": \"Action\"}, {\"id\": 12, \"nam...   \n",
       "\n",
       "                      homepage     id  \\\n",
       "0  http://www.avatarmovie.com/  19995   \n",
       "\n",
       "                                            keywords original_language  \\\n",
       "0  [{\"id\": 1463, \"name\": \"culture clash\"}, {\"id\":...                en   \n",
       "\n",
       "  original_title                                           overview  \\\n",
       "0         Avatar  In the 22nd century, a paraplegic Marine is di...   \n",
       "\n",
       "   popularity                               production_companies  ... runtime  \\\n",
       "0  150.437577  [{\"name\": \"Ingenious Film Partners\", \"id\": 289...  ...   162.0   \n",
       "\n",
       "                                    spoken_languages    status  \\\n",
       "0  [{\"iso_639_1\": \"en\", \"name\": \"English\"}, {\"iso...  Released   \n",
       "\n",
       "                       tagline   title vote_average vote_count movie_id  \\\n",
       "0  Enter the World of Pandora.  Avatar          7.2      11800    19995   \n",
       "\n",
       "                                                cast  \\\n",
       "0  [{\"cast_id\": 242, \"character\": \"Jake Sully\", \"...   \n",
       "\n",
       "                                                crew  \n",
       "0  [{\"credit_id\": \"52fe48009251416c750aca23\", \"de...  \n",
       "\n",
       "[1 rows x 23 columns]"
      ]
     },
     "execution_count": 20,
     "metadata": {},
     "output_type": "execute_result"
    }
   ],
   "source": [
    "movies.head(1)"
   ]
  },
  {
   "cell_type": "code",
   "execution_count": 23,
   "metadata": {
    "execution": {
     "iopub.execute_input": "2025-09-04T05:00:31.927672Z",
     "iopub.status.busy": "2025-09-04T05:00:31.927385Z",
     "iopub.status.idle": "2025-09-04T05:00:31.934255Z",
     "shell.execute_reply": "2025-09-04T05:00:31.933437Z",
     "shell.execute_reply.started": "2025-09-04T05:00:31.927655Z"
    },
    "trusted": true
   },
   "outputs": [],
   "source": [
    "# Columns to keep: genres, id, keywords, title, overview, cast, crew\n",
    "movies = movies[['movie_id', 'title', 'overview', 'genres', 'keywords', 'cast', 'crew']]"
   ]
  },
  {
   "cell_type": "code",
   "execution_count": 24,
   "metadata": {
    "execution": {
     "iopub.execute_input": "2025-09-04T05:00:39.817424Z",
     "iopub.status.busy": "2025-09-04T05:00:39.816392Z",
     "iopub.status.idle": "2025-09-04T05:00:39.826898Z",
     "shell.execute_reply": "2025-09-04T05:00:39.825922Z",
     "shell.execute_reply.started": "2025-09-04T05:00:39.817391Z"
    },
    "trusted": true
   },
   "outputs": [
    {
     "data": {
      "text/html": [
       "<div>\n",
       "<style scoped>\n",
       "    .dataframe tbody tr th:only-of-type {\n",
       "        vertical-align: middle;\n",
       "    }\n",
       "\n",
       "    .dataframe tbody tr th {\n",
       "        vertical-align: top;\n",
       "    }\n",
       "\n",
       "    .dataframe thead th {\n",
       "        text-align: right;\n",
       "    }\n",
       "</style>\n",
       "<table border=\"1\" class=\"dataframe\">\n",
       "  <thead>\n",
       "    <tr style=\"text-align: right;\">\n",
       "      <th></th>\n",
       "      <th>movie_id</th>\n",
       "      <th>title</th>\n",
       "      <th>overview</th>\n",
       "      <th>genres</th>\n",
       "      <th>keywords</th>\n",
       "      <th>cast</th>\n",
       "      <th>crew</th>\n",
       "    </tr>\n",
       "  </thead>\n",
       "  <tbody>\n",
       "    <tr>\n",
       "      <th>0</th>\n",
       "      <td>19995</td>\n",
       "      <td>Avatar</td>\n",
       "      <td>In the 22nd century, a paraplegic Marine is di...</td>\n",
       "      <td>[{\"id\": 28, \"name\": \"Action\"}, {\"id\": 12, \"nam...</td>\n",
       "      <td>[{\"id\": 1463, \"name\": \"culture clash\"}, {\"id\":...</td>\n",
       "      <td>[{\"cast_id\": 242, \"character\": \"Jake Sully\", \"...</td>\n",
       "      <td>[{\"credit_id\": \"52fe48009251416c750aca23\", \"de...</td>\n",
       "    </tr>\n",
       "    <tr>\n",
       "      <th>1</th>\n",
       "      <td>285</td>\n",
       "      <td>Pirates of the Caribbean: At World's End</td>\n",
       "      <td>Captain Barbossa, long believed to be dead, ha...</td>\n",
       "      <td>[{\"id\": 12, \"name\": \"Adventure\"}, {\"id\": 14, \"...</td>\n",
       "      <td>[{\"id\": 270, \"name\": \"ocean\"}, {\"id\": 726, \"na...</td>\n",
       "      <td>[{\"cast_id\": 4, \"character\": \"Captain Jack Spa...</td>\n",
       "      <td>[{\"credit_id\": \"52fe4232c3a36847f800b579\", \"de...</td>\n",
       "    </tr>\n",
       "    <tr>\n",
       "      <th>2</th>\n",
       "      <td>206647</td>\n",
       "      <td>Spectre</td>\n",
       "      <td>A cryptic message from Bond’s past sends him o...</td>\n",
       "      <td>[{\"id\": 28, \"name\": \"Action\"}, {\"id\": 12, \"nam...</td>\n",
       "      <td>[{\"id\": 470, \"name\": \"spy\"}, {\"id\": 818, \"name...</td>\n",
       "      <td>[{\"cast_id\": 1, \"character\": \"James Bond\", \"cr...</td>\n",
       "      <td>[{\"credit_id\": \"54805967c3a36829b5002c41\", \"de...</td>\n",
       "    </tr>\n",
       "    <tr>\n",
       "      <th>3</th>\n",
       "      <td>49026</td>\n",
       "      <td>The Dark Knight Rises</td>\n",
       "      <td>Following the death of District Attorney Harve...</td>\n",
       "      <td>[{\"id\": 28, \"name\": \"Action\"}, {\"id\": 80, \"nam...</td>\n",
       "      <td>[{\"id\": 849, \"name\": \"dc comics\"}, {\"id\": 853,...</td>\n",
       "      <td>[{\"cast_id\": 2, \"character\": \"Bruce Wayne / Ba...</td>\n",
       "      <td>[{\"credit_id\": \"52fe4781c3a36847f81398c3\", \"de...</td>\n",
       "    </tr>\n",
       "    <tr>\n",
       "      <th>4</th>\n",
       "      <td>49529</td>\n",
       "      <td>John Carter</td>\n",
       "      <td>John Carter is a war-weary, former military ca...</td>\n",
       "      <td>[{\"id\": 28, \"name\": \"Action\"}, {\"id\": 12, \"nam...</td>\n",
       "      <td>[{\"id\": 818, \"name\": \"based on novel\"}, {\"id\":...</td>\n",
       "      <td>[{\"cast_id\": 5, \"character\": \"John Carter\", \"c...</td>\n",
       "      <td>[{\"credit_id\": \"52fe479ac3a36847f813eaa3\", \"de...</td>\n",
       "    </tr>\n",
       "  </tbody>\n",
       "</table>\n",
       "</div>"
      ],
      "text/plain": [
       "   movie_id                                     title  \\\n",
       "0     19995                                    Avatar   \n",
       "1       285  Pirates of the Caribbean: At World's End   \n",
       "2    206647                                   Spectre   \n",
       "3     49026                     The Dark Knight Rises   \n",
       "4     49529                               John Carter   \n",
       "\n",
       "                                            overview  \\\n",
       "0  In the 22nd century, a paraplegic Marine is di...   \n",
       "1  Captain Barbossa, long believed to be dead, ha...   \n",
       "2  A cryptic message from Bond’s past sends him o...   \n",
       "3  Following the death of District Attorney Harve...   \n",
       "4  John Carter is a war-weary, former military ca...   \n",
       "\n",
       "                                              genres  \\\n",
       "0  [{\"id\": 28, \"name\": \"Action\"}, {\"id\": 12, \"nam...   \n",
       "1  [{\"id\": 12, \"name\": \"Adventure\"}, {\"id\": 14, \"...   \n",
       "2  [{\"id\": 28, \"name\": \"Action\"}, {\"id\": 12, \"nam...   \n",
       "3  [{\"id\": 28, \"name\": \"Action\"}, {\"id\": 80, \"nam...   \n",
       "4  [{\"id\": 28, \"name\": \"Action\"}, {\"id\": 12, \"nam...   \n",
       "\n",
       "                                            keywords  \\\n",
       "0  [{\"id\": 1463, \"name\": \"culture clash\"}, {\"id\":...   \n",
       "1  [{\"id\": 270, \"name\": \"ocean\"}, {\"id\": 726, \"na...   \n",
       "2  [{\"id\": 470, \"name\": \"spy\"}, {\"id\": 818, \"name...   \n",
       "3  [{\"id\": 849, \"name\": \"dc comics\"}, {\"id\": 853,...   \n",
       "4  [{\"id\": 818, \"name\": \"based on novel\"}, {\"id\":...   \n",
       "\n",
       "                                                cast  \\\n",
       "0  [{\"cast_id\": 242, \"character\": \"Jake Sully\", \"...   \n",
       "1  [{\"cast_id\": 4, \"character\": \"Captain Jack Spa...   \n",
       "2  [{\"cast_id\": 1, \"character\": \"James Bond\", \"cr...   \n",
       "3  [{\"cast_id\": 2, \"character\": \"Bruce Wayne / Ba...   \n",
       "4  [{\"cast_id\": 5, \"character\": \"John Carter\", \"c...   \n",
       "\n",
       "                                                crew  \n",
       "0  [{\"credit_id\": \"52fe48009251416c750aca23\", \"de...  \n",
       "1  [{\"credit_id\": \"52fe4232c3a36847f800b579\", \"de...  \n",
       "2  [{\"credit_id\": \"54805967c3a36829b5002c41\", \"de...  \n",
       "3  [{\"credit_id\": \"52fe4781c3a36847f81398c3\", \"de...  \n",
       "4  [{\"credit_id\": \"52fe479ac3a36847f813eaa3\", \"de...  "
      ]
     },
     "execution_count": 24,
     "metadata": {},
     "output_type": "execute_result"
    }
   ],
   "source": [
    "movies.head()"
   ]
  },
  {
   "cell_type": "code",
   "execution_count": 26,
   "metadata": {
    "execution": {
     "iopub.execute_input": "2025-09-04T05:06:10.646361Z",
     "iopub.status.busy": "2025-09-04T05:06:10.646037Z",
     "iopub.status.idle": "2025-09-04T05:06:10.656772Z",
     "shell.execute_reply": "2025-09-04T05:06:10.655566Z",
     "shell.execute_reply.started": "2025-09-04T05:06:10.646337Z"
    },
    "trusted": true
   },
   "outputs": [
    {
     "data": {
      "text/plain": [
       "movie_id    0\n",
       "title       0\n",
       "overview    3\n",
       "genres      0\n",
       "keywords    0\n",
       "cast        0\n",
       "crew        0\n",
       "dtype: int64"
      ]
     },
     "execution_count": 26,
     "metadata": {},
     "output_type": "execute_result"
    }
   ],
   "source": [
    "movies.isnull().sum()"
   ]
  },
  {
   "cell_type": "code",
   "execution_count": 27,
   "metadata": {
    "execution": {
     "iopub.execute_input": "2025-09-04T05:07:00.083401Z",
     "iopub.status.busy": "2025-09-04T05:07:00.083090Z",
     "iopub.status.idle": "2025-09-04T05:07:00.094205Z",
     "shell.execute_reply": "2025-09-04T05:07:00.093461Z",
     "shell.execute_reply.started": "2025-09-04T05:07:00.083380Z"
    },
    "trusted": true
   },
   "outputs": [
    {
     "name": "stderr",
     "output_type": "stream",
     "text": [
      "/tmp/ipykernel_36/3786870272.py:1: SettingWithCopyWarning: \n",
      "A value is trying to be set on a copy of a slice from a DataFrame\n",
      "\n",
      "See the caveats in the documentation: https://pandas.pydata.org/pandas-docs/stable/user_guide/indexing.html#returning-a-view-versus-a-copy\n",
      "  movies.dropna(inplace=True)\n"
     ]
    }
   ],
   "source": [
    "movies.dropna(inplace=True)"
   ]
  },
  {
   "cell_type": "code",
   "execution_count": 30,
   "metadata": {
    "execution": {
     "iopub.execute_input": "2025-09-04T05:07:46.979897Z",
     "iopub.status.busy": "2025-09-04T05:07:46.979604Z",
     "iopub.status.idle": "2025-09-04T05:07:47.066210Z",
     "shell.execute_reply": "2025-09-04T05:07:47.065388Z",
     "shell.execute_reply.started": "2025-09-04T05:07:46.979872Z"
    },
    "trusted": true
   },
   "outputs": [
    {
     "data": {
      "text/plain": [
       "0"
      ]
     },
     "execution_count": 30,
     "metadata": {},
     "output_type": "execute_result"
    }
   ],
   "source": [
    "movies.duplicated().sum()"
   ]
  },
  {
   "cell_type": "code",
   "execution_count": 45,
   "metadata": {
    "execution": {
     "iopub.execute_input": "2025-09-04T05:23:39.705717Z",
     "iopub.status.busy": "2025-09-04T05:23:39.705457Z",
     "iopub.status.idle": "2025-09-04T05:23:39.712162Z",
     "shell.execute_reply": "2025-09-04T05:23:39.710743Z",
     "shell.execute_reply.started": "2025-09-04T05:23:39.705699Z"
    },
    "trusted": true
   },
   "outputs": [
    {
     "data": {
      "text/plain": [
       "['Action', 'Adventure', 'Fantasy', 'Science Fiction']"
      ]
     },
     "execution_count": 45,
     "metadata": {},
     "output_type": "execute_result"
    }
   ],
   "source": [
    "movies.iloc[0].genres"
   ]
  },
  {
   "cell_type": "code",
   "execution_count": 33,
   "metadata": {
    "execution": {
     "iopub.execute_input": "2025-09-04T05:15:30.972369Z",
     "iopub.status.busy": "2025-09-04T05:15:30.972065Z",
     "iopub.status.idle": "2025-09-04T05:15:30.978315Z",
     "shell.execute_reply": "2025-09-04T05:15:30.977697Z",
     "shell.execute_reply.started": "2025-09-04T05:15:30.972350Z"
    },
    "trusted": true
   },
   "outputs": [
    {
     "data": {
      "text/plain": [
       "[{'id': 28, 'name': 'Action'},\n",
       " {'id': 12, 'name': 'Adventure'},\n",
       " {'id': 14, 'name': 'Fantasy'},\n",
       " {'id': 878, 'name': 'Science Fiction'}]"
      ]
     },
     "execution_count": 33,
     "metadata": {},
     "output_type": "execute_result"
    }
   ],
   "source": [
    "# movies.iloc[0].genres -> str of list: '[{\"id\": 28, \"name\": \"Action\"}, {\"id\": 12, \"name\": \"Adventure\"}, {\"id\": 14, \"name\": \"Fantasy\"}, {\"id\": 878, \"name\": \"Science Fiction\"}]'\n",
    "# we need to convert it from str to list\n",
    "import ast\n",
    "ast.literal_eval('[{\"id\": 28, \"name\": \"Action\"}, {\"id\": 12, \"name\": \"Adventure\"}, {\"id\": 14, \"name\": \"Fantasy\"}, {\"id\": 878, \"name\": \"Science Fiction\"}]')"
   ]
  },
  {
   "cell_type": "code",
   "execution_count": 34,
   "metadata": {
    "execution": {
     "iopub.execute_input": "2025-09-04T05:16:13.105179Z",
     "iopub.status.busy": "2025-09-04T05:16:13.104909Z",
     "iopub.status.idle": "2025-09-04T05:16:13.109898Z",
     "shell.execute_reply": "2025-09-04T05:16:13.109206Z",
     "shell.execute_reply.started": "2025-09-04T05:16:13.105159Z"
    },
    "trusted": true
   },
   "outputs": [],
   "source": [
    "# i/p: '[{\"id\": 28, \"name\": \"Action\"}, {\"id\": 12, \"name\": \"Adventure\"}, {\"id\": 14, \"name\": \"Fantasy\"}, {\"id\": 878, \"name\": \"Science Fiction\"}]'\n",
    "# o/p: ['Action', 'Adventure', 'Fantasy', 'Science Fiction']\n",
    "def convert(obj):\n",
    "    L= []\n",
    "    for i in ast.literal_eval(obj):\n",
    "        L.append(i['name'])\n",
    "    return L"
   ]
  },
  {
   "cell_type": "code",
   "execution_count": null,
   "metadata": {
    "execution": {
     "iopub.execute_input": "2025-09-04T05:17:15.136134Z",
     "iopub.status.busy": "2025-09-04T05:17:15.135810Z",
     "iopub.status.idle": "2025-09-04T05:17:15.255633Z",
     "shell.execute_reply": "2025-09-04T05:17:15.254677Z",
     "shell.execute_reply.started": "2025-09-04T05:17:15.136113Z"
    },
    "trusted": true
   },
   "outputs": [],
   "source": [
    "movies['genres'] = movies['genres'].apply(convert)"
   ]
  },
  {
   "cell_type": "code",
   "execution_count": 38,
   "metadata": {
    "execution": {
     "iopub.execute_input": "2025-09-04T05:17:40.842508Z",
     "iopub.status.busy": "2025-09-04T05:17:40.842214Z",
     "iopub.status.idle": "2025-09-04T05:17:40.853473Z",
     "shell.execute_reply": "2025-09-04T05:17:40.852378Z",
     "shell.execute_reply.started": "2025-09-04T05:17:40.842490Z"
    },
    "trusted": true
   },
   "outputs": [
    {
     "data": {
      "text/html": [
       "<div>\n",
       "<style scoped>\n",
       "    .dataframe tbody tr th:only-of-type {\n",
       "        vertical-align: middle;\n",
       "    }\n",
       "\n",
       "    .dataframe tbody tr th {\n",
       "        vertical-align: top;\n",
       "    }\n",
       "\n",
       "    .dataframe thead th {\n",
       "        text-align: right;\n",
       "    }\n",
       "</style>\n",
       "<table border=\"1\" class=\"dataframe\">\n",
       "  <thead>\n",
       "    <tr style=\"text-align: right;\">\n",
       "      <th></th>\n",
       "      <th>movie_id</th>\n",
       "      <th>title</th>\n",
       "      <th>overview</th>\n",
       "      <th>genres</th>\n",
       "      <th>keywords</th>\n",
       "      <th>cast</th>\n",
       "      <th>crew</th>\n",
       "    </tr>\n",
       "  </thead>\n",
       "  <tbody>\n",
       "    <tr>\n",
       "      <th>0</th>\n",
       "      <td>19995</td>\n",
       "      <td>Avatar</td>\n",
       "      <td>In the 22nd century, a paraplegic Marine is di...</td>\n",
       "      <td>[Action, Adventure, Fantasy, Science Fiction]</td>\n",
       "      <td>[{\"id\": 1463, \"name\": \"culture clash\"}, {\"id\":...</td>\n",
       "      <td>[{\"cast_id\": 242, \"character\": \"Jake Sully\", \"...</td>\n",
       "      <td>[{\"credit_id\": \"52fe48009251416c750aca23\", \"de...</td>\n",
       "    </tr>\n",
       "  </tbody>\n",
       "</table>\n",
       "</div>"
      ],
      "text/plain": [
       "   movie_id   title                                           overview  \\\n",
       "0     19995  Avatar  In the 22nd century, a paraplegic Marine is di...   \n",
       "\n",
       "                                          genres  \\\n",
       "0  [Action, Adventure, Fantasy, Science Fiction]   \n",
       "\n",
       "                                            keywords  \\\n",
       "0  [{\"id\": 1463, \"name\": \"culture clash\"}, {\"id\":...   \n",
       "\n",
       "                                                cast  \\\n",
       "0  [{\"cast_id\": 242, \"character\": \"Jake Sully\", \"...   \n",
       "\n",
       "                                                crew  \n",
       "0  [{\"credit_id\": \"52fe48009251416c750aca23\", \"de...  "
      ]
     },
     "execution_count": 38,
     "metadata": {},
     "output_type": "execute_result"
    }
   ],
   "source": [
    "movies.head(1)"
   ]
  },
  {
   "cell_type": "code",
   "execution_count": 39,
   "metadata": {
    "execution": {
     "iopub.execute_input": "2025-09-04T05:18:22.954459Z",
     "iopub.status.busy": "2025-09-04T05:18:22.954111Z",
     "iopub.status.idle": "2025-09-04T05:18:23.240697Z",
     "shell.execute_reply": "2025-09-04T05:18:23.239997Z",
     "shell.execute_reply.started": "2025-09-04T05:18:22.954437Z"
    },
    "trusted": true
   },
   "outputs": [],
   "source": [
    "movies['keywords'] = movies['keywords'].apply(convert)"
   ]
  },
  {
   "cell_type": "code",
   "execution_count": 40,
   "metadata": {
    "execution": {
     "iopub.execute_input": "2025-09-04T05:18:30.926655Z",
     "iopub.status.busy": "2025-09-04T05:18:30.926336Z",
     "iopub.status.idle": "2025-09-04T05:18:30.937148Z",
     "shell.execute_reply": "2025-09-04T05:18:30.936093Z",
     "shell.execute_reply.started": "2025-09-04T05:18:30.926620Z"
    },
    "trusted": true
   },
   "outputs": [
    {
     "data": {
      "text/html": [
       "<div>\n",
       "<style scoped>\n",
       "    .dataframe tbody tr th:only-of-type {\n",
       "        vertical-align: middle;\n",
       "    }\n",
       "\n",
       "    .dataframe tbody tr th {\n",
       "        vertical-align: top;\n",
       "    }\n",
       "\n",
       "    .dataframe thead th {\n",
       "        text-align: right;\n",
       "    }\n",
       "</style>\n",
       "<table border=\"1\" class=\"dataframe\">\n",
       "  <thead>\n",
       "    <tr style=\"text-align: right;\">\n",
       "      <th></th>\n",
       "      <th>movie_id</th>\n",
       "      <th>title</th>\n",
       "      <th>overview</th>\n",
       "      <th>genres</th>\n",
       "      <th>keywords</th>\n",
       "      <th>cast</th>\n",
       "      <th>crew</th>\n",
       "    </tr>\n",
       "  </thead>\n",
       "  <tbody>\n",
       "    <tr>\n",
       "      <th>0</th>\n",
       "      <td>19995</td>\n",
       "      <td>Avatar</td>\n",
       "      <td>In the 22nd century, a paraplegic Marine is di...</td>\n",
       "      <td>[Action, Adventure, Fantasy, Science Fiction]</td>\n",
       "      <td>[culture clash, future, space war, space colon...</td>\n",
       "      <td>[{\"cast_id\": 242, \"character\": \"Jake Sully\", \"...</td>\n",
       "      <td>[{\"credit_id\": \"52fe48009251416c750aca23\", \"de...</td>\n",
       "    </tr>\n",
       "  </tbody>\n",
       "</table>\n",
       "</div>"
      ],
      "text/plain": [
       "   movie_id   title                                           overview  \\\n",
       "0     19995  Avatar  In the 22nd century, a paraplegic Marine is di...   \n",
       "\n",
       "                                          genres  \\\n",
       "0  [Action, Adventure, Fantasy, Science Fiction]   \n",
       "\n",
       "                                            keywords  \\\n",
       "0  [culture clash, future, space war, space colon...   \n",
       "\n",
       "                                                cast  \\\n",
       "0  [{\"cast_id\": 242, \"character\": \"Jake Sully\", \"...   \n",
       "\n",
       "                                                crew  \n",
       "0  [{\"credit_id\": \"52fe48009251416c750aca23\", \"de...  "
      ]
     },
     "execution_count": 40,
     "metadata": {},
     "output_type": "execute_result"
    }
   ],
   "source": [
    "movies.head(1)"
   ]
  },
  {
   "cell_type": "code",
   "execution_count": 46,
   "metadata": {
    "execution": {
     "iopub.execute_input": "2025-09-04T05:25:55.307006Z",
     "iopub.status.busy": "2025-09-04T05:25:55.306732Z",
     "iopub.status.idle": "2025-09-04T05:25:55.311404Z",
     "shell.execute_reply": "2025-09-04T05:25:55.310682Z",
     "shell.execute_reply.started": "2025-09-04T05:25:55.306988Z"
    },
    "trusted": true
   },
   "outputs": [],
   "source": [
    "# get top 3 actors from cast column\n",
    "def top_3_cast(obj):\n",
    "    L= []\n",
    "    counter = 0\n",
    "    for i in ast.literal_eval(obj):\n",
    "        if counter != 3:\n",
    "            L.append(i['name'])\n",
    "            counter += 1\n",
    "        else:\n",
    "            break\n",
    "    return L"
   ]
  },
  {
   "cell_type": "code",
   "execution_count": 48,
   "metadata": {
    "execution": {
     "iopub.execute_input": "2025-09-04T05:26:52.667088Z",
     "iopub.status.busy": "2025-09-04T05:26:52.666865Z",
     "iopub.status.idle": "2025-09-04T05:26:55.079470Z",
     "shell.execute_reply": "2025-09-04T05:26:55.078614Z",
     "shell.execute_reply.started": "2025-09-04T05:26:52.667072Z"
    },
    "trusted": true
   },
   "outputs": [],
   "source": [
    "movies['cast'] = movies['cast'].apply(top_3_cast)"
   ]
  },
  {
   "cell_type": "code",
   "execution_count": 49,
   "metadata": {
    "execution": {
     "iopub.execute_input": "2025-09-04T05:27:06.755539Z",
     "iopub.status.busy": "2025-09-04T05:27:06.755212Z",
     "iopub.status.idle": "2025-09-04T05:27:06.764939Z",
     "shell.execute_reply": "2025-09-04T05:27:06.764121Z",
     "shell.execute_reply.started": "2025-09-04T05:27:06.755518Z"
    },
    "trusted": true
   },
   "outputs": [
    {
     "data": {
      "text/html": [
       "<div>\n",
       "<style scoped>\n",
       "    .dataframe tbody tr th:only-of-type {\n",
       "        vertical-align: middle;\n",
       "    }\n",
       "\n",
       "    .dataframe tbody tr th {\n",
       "        vertical-align: top;\n",
       "    }\n",
       "\n",
       "    .dataframe thead th {\n",
       "        text-align: right;\n",
       "    }\n",
       "</style>\n",
       "<table border=\"1\" class=\"dataframe\">\n",
       "  <thead>\n",
       "    <tr style=\"text-align: right;\">\n",
       "      <th></th>\n",
       "      <th>movie_id</th>\n",
       "      <th>title</th>\n",
       "      <th>overview</th>\n",
       "      <th>genres</th>\n",
       "      <th>keywords</th>\n",
       "      <th>cast</th>\n",
       "      <th>crew</th>\n",
       "    </tr>\n",
       "  </thead>\n",
       "  <tbody>\n",
       "    <tr>\n",
       "      <th>0</th>\n",
       "      <td>19995</td>\n",
       "      <td>Avatar</td>\n",
       "      <td>In the 22nd century, a paraplegic Marine is di...</td>\n",
       "      <td>[Action, Adventure, Fantasy, Science Fiction]</td>\n",
       "      <td>[culture clash, future, space war, space colon...</td>\n",
       "      <td>[Sam Worthington, Zoe Saldana, Sigourney Weaver]</td>\n",
       "      <td>[{\"credit_id\": \"52fe48009251416c750aca23\", \"de...</td>\n",
       "    </tr>\n",
       "  </tbody>\n",
       "</table>\n",
       "</div>"
      ],
      "text/plain": [
       "   movie_id   title                                           overview  \\\n",
       "0     19995  Avatar  In the 22nd century, a paraplegic Marine is di...   \n",
       "\n",
       "                                          genres  \\\n",
       "0  [Action, Adventure, Fantasy, Science Fiction]   \n",
       "\n",
       "                                            keywords  \\\n",
       "0  [culture clash, future, space war, space colon...   \n",
       "\n",
       "                                               cast  \\\n",
       "0  [Sam Worthington, Zoe Saldana, Sigourney Weaver]   \n",
       "\n",
       "                                                crew  \n",
       "0  [{\"credit_id\": \"52fe48009251416c750aca23\", \"de...  "
      ]
     },
     "execution_count": 49,
     "metadata": {},
     "output_type": "execute_result"
    }
   ],
   "source": [
    "movies.head(1)"
   ]
  },
  {
   "cell_type": "code",
   "execution_count": 52,
   "metadata": {
    "execution": {
     "iopub.execute_input": "2025-09-04T05:29:17.581095Z",
     "iopub.status.busy": "2025-09-04T05:29:17.580833Z",
     "iopub.status.idle": "2025-09-04T05:29:17.587868Z",
     "shell.execute_reply": "2025-09-04T05:29:17.586909Z",
     "shell.execute_reply.started": "2025-09-04T05:29:17.581078Z"
    },
    "trusted": true
   },
   "outputs": [
    {
     "data": {
      "text/plain": [
       "0       [{\"credit_id\": \"52fe48009251416c750aca23\", \"de...\n",
       "1       [{\"credit_id\": \"52fe4232c3a36847f800b579\", \"de...\n",
       "2       [{\"credit_id\": \"54805967c3a36829b5002c41\", \"de...\n",
       "3       [{\"credit_id\": \"52fe4781c3a36847f81398c3\", \"de...\n",
       "4       [{\"credit_id\": \"52fe479ac3a36847f813eaa3\", \"de...\n",
       "                              ...                        \n",
       "4804    [{\"credit_id\": \"52fe44eec3a36847f80b280b\", \"de...\n",
       "4805    [{\"credit_id\": \"52fe487dc3a368484e0fb013\", \"de...\n",
       "4806    [{\"credit_id\": \"52fe4df3c3a36847f8275ecf\", \"de...\n",
       "4807    [{\"credit_id\": \"52fe4ad9c3a368484e16a36b\", \"de...\n",
       "4808    [{\"credit_id\": \"58ce021b9251415a390165d9\", \"de...\n",
       "Name: crew, Length: 4806, dtype: object"
      ]
     },
     "execution_count": 52,
     "metadata": {},
     "output_type": "execute_result"
    }
   ],
   "source": [
    "# we want to find name from the dictionary where job = director (i.e exacting director's name)\n",
    "movies['crew']"
   ]
  },
  {
   "cell_type": "code",
   "execution_count": 54,
   "metadata": {
    "execution": {
     "iopub.execute_input": "2025-09-04T05:30:55.883394Z",
     "iopub.status.busy": "2025-09-04T05:30:55.883071Z",
     "iopub.status.idle": "2025-09-04T05:30:55.889294Z",
     "shell.execute_reply": "2025-09-04T05:30:55.888089Z",
     "shell.execute_reply.started": "2025-09-04T05:30:55.883372Z"
    },
    "trusted": true
   },
   "outputs": [],
   "source": [
    "def fetch_director_name(obj):\n",
    "    L= []\n",
    "    for i in ast.literal_eval(obj):\n",
    "        if i['job'] == 'Director':\n",
    "            L.append(i['name'])\n",
    "            break\n",
    "    return L"
   ]
  },
  {
   "cell_type": "code",
   "execution_count": null,
   "metadata": {
    "execution": {
     "iopub.execute_input": "2025-09-04T05:31:49.063791Z",
     "iopub.status.busy": "2025-09-04T05:31:49.063459Z",
     "iopub.status.idle": "2025-09-04T05:31:51.944684Z",
     "shell.execute_reply": "2025-09-04T05:31:51.943297Z",
     "shell.execute_reply.started": "2025-09-04T05:31:49.063766Z"
    },
    "trusted": true
   },
   "outputs": [],
   "source": [
    "movies['crew'] = movies['crew'].apply(fetch_director_name)"
   ]
  },
  {
   "cell_type": "code",
   "execution_count": 57,
   "metadata": {
    "execution": {
     "iopub.execute_input": "2025-09-04T05:32:00.310059Z",
     "iopub.status.busy": "2025-09-04T05:32:00.309751Z",
     "iopub.status.idle": "2025-09-04T05:32:00.324932Z",
     "shell.execute_reply": "2025-09-04T05:32:00.324056Z",
     "shell.execute_reply.started": "2025-09-04T05:32:00.310040Z"
    },
    "trusted": true
   },
   "outputs": [
    {
     "data": {
      "text/html": [
       "<div>\n",
       "<style scoped>\n",
       "    .dataframe tbody tr th:only-of-type {\n",
       "        vertical-align: middle;\n",
       "    }\n",
       "\n",
       "    .dataframe tbody tr th {\n",
       "        vertical-align: top;\n",
       "    }\n",
       "\n",
       "    .dataframe thead th {\n",
       "        text-align: right;\n",
       "    }\n",
       "</style>\n",
       "<table border=\"1\" class=\"dataframe\">\n",
       "  <thead>\n",
       "    <tr style=\"text-align: right;\">\n",
       "      <th></th>\n",
       "      <th>movie_id</th>\n",
       "      <th>title</th>\n",
       "      <th>overview</th>\n",
       "      <th>genres</th>\n",
       "      <th>keywords</th>\n",
       "      <th>cast</th>\n",
       "      <th>crew</th>\n",
       "    </tr>\n",
       "  </thead>\n",
       "  <tbody>\n",
       "    <tr>\n",
       "      <th>0</th>\n",
       "      <td>19995</td>\n",
       "      <td>Avatar</td>\n",
       "      <td>In the 22nd century, a paraplegic Marine is di...</td>\n",
       "      <td>[Action, Adventure, Fantasy, Science Fiction]</td>\n",
       "      <td>[culture clash, future, space war, space colon...</td>\n",
       "      <td>[Sam Worthington, Zoe Saldana, Sigourney Weaver]</td>\n",
       "      <td>[James Cameron]</td>\n",
       "    </tr>\n",
       "    <tr>\n",
       "      <th>1</th>\n",
       "      <td>285</td>\n",
       "      <td>Pirates of the Caribbean: At World's End</td>\n",
       "      <td>Captain Barbossa, long believed to be dead, ha...</td>\n",
       "      <td>[Adventure, Fantasy, Action]</td>\n",
       "      <td>[ocean, drug abuse, exotic island, east india ...</td>\n",
       "      <td>[Johnny Depp, Orlando Bloom, Keira Knightley]</td>\n",
       "      <td>[Gore Verbinski]</td>\n",
       "    </tr>\n",
       "    <tr>\n",
       "      <th>2</th>\n",
       "      <td>206647</td>\n",
       "      <td>Spectre</td>\n",
       "      <td>A cryptic message from Bond’s past sends him o...</td>\n",
       "      <td>[Action, Adventure, Crime]</td>\n",
       "      <td>[spy, based on novel, secret agent, sequel, mi...</td>\n",
       "      <td>[Daniel Craig, Christoph Waltz, Léa Seydoux]</td>\n",
       "      <td>[Sam Mendes]</td>\n",
       "    </tr>\n",
       "    <tr>\n",
       "      <th>3</th>\n",
       "      <td>49026</td>\n",
       "      <td>The Dark Knight Rises</td>\n",
       "      <td>Following the death of District Attorney Harve...</td>\n",
       "      <td>[Action, Crime, Drama, Thriller]</td>\n",
       "      <td>[dc comics, crime fighter, terrorist, secret i...</td>\n",
       "      <td>[Christian Bale, Michael Caine, Gary Oldman]</td>\n",
       "      <td>[Christopher Nolan]</td>\n",
       "    </tr>\n",
       "    <tr>\n",
       "      <th>4</th>\n",
       "      <td>49529</td>\n",
       "      <td>John Carter</td>\n",
       "      <td>John Carter is a war-weary, former military ca...</td>\n",
       "      <td>[Action, Adventure, Science Fiction]</td>\n",
       "      <td>[based on novel, mars, medallion, space travel...</td>\n",
       "      <td>[Taylor Kitsch, Lynn Collins, Samantha Morton]</td>\n",
       "      <td>[Andrew Stanton]</td>\n",
       "    </tr>\n",
       "  </tbody>\n",
       "</table>\n",
       "</div>"
      ],
      "text/plain": [
       "   movie_id                                     title  \\\n",
       "0     19995                                    Avatar   \n",
       "1       285  Pirates of the Caribbean: At World's End   \n",
       "2    206647                                   Spectre   \n",
       "3     49026                     The Dark Knight Rises   \n",
       "4     49529                               John Carter   \n",
       "\n",
       "                                            overview  \\\n",
       "0  In the 22nd century, a paraplegic Marine is di...   \n",
       "1  Captain Barbossa, long believed to be dead, ha...   \n",
       "2  A cryptic message from Bond’s past sends him o...   \n",
       "3  Following the death of District Attorney Harve...   \n",
       "4  John Carter is a war-weary, former military ca...   \n",
       "\n",
       "                                          genres  \\\n",
       "0  [Action, Adventure, Fantasy, Science Fiction]   \n",
       "1                   [Adventure, Fantasy, Action]   \n",
       "2                     [Action, Adventure, Crime]   \n",
       "3               [Action, Crime, Drama, Thriller]   \n",
       "4           [Action, Adventure, Science Fiction]   \n",
       "\n",
       "                                            keywords  \\\n",
       "0  [culture clash, future, space war, space colon...   \n",
       "1  [ocean, drug abuse, exotic island, east india ...   \n",
       "2  [spy, based on novel, secret agent, sequel, mi...   \n",
       "3  [dc comics, crime fighter, terrorist, secret i...   \n",
       "4  [based on novel, mars, medallion, space travel...   \n",
       "\n",
       "                                               cast                 crew  \n",
       "0  [Sam Worthington, Zoe Saldana, Sigourney Weaver]      [James Cameron]  \n",
       "1     [Johnny Depp, Orlando Bloom, Keira Knightley]     [Gore Verbinski]  \n",
       "2      [Daniel Craig, Christoph Waltz, Léa Seydoux]         [Sam Mendes]  \n",
       "3      [Christian Bale, Michael Caine, Gary Oldman]  [Christopher Nolan]  \n",
       "4    [Taylor Kitsch, Lynn Collins, Samantha Morton]     [Andrew Stanton]  "
      ]
     },
     "execution_count": 57,
     "metadata": {},
     "output_type": "execute_result"
    }
   ],
   "source": [
    "movies.head()"
   ]
  },
  {
   "cell_type": "code",
   "execution_count": 61,
   "metadata": {
    "execution": {
     "iopub.execute_input": "2025-09-04T05:33:26.968111Z",
     "iopub.status.busy": "2025-09-04T05:33:26.967860Z",
     "iopub.status.idle": "2025-09-04T05:33:26.974492Z",
     "shell.execute_reply": "2025-09-04T05:33:26.973468Z",
     "shell.execute_reply.started": "2025-09-04T05:33:26.968094Z"
    },
    "trusted": true
   },
   "outputs": [
    {
     "data": {
      "text/plain": [
       "'In the 22nd century, a paraplegic Marine is dispatched to the moon Pandora on a unique mission, but becomes torn between following orders and protecting an alien civilization.'"
      ]
     },
     "execution_count": 61,
     "metadata": {},
     "output_type": "execute_result"
    }
   ],
   "source": [
    "movies['overview'][0]"
   ]
  },
  {
   "cell_type": "code",
   "execution_count": 64,
   "metadata": {
    "execution": {
     "iopub.execute_input": "2025-09-04T05:36:42.895331Z",
     "iopub.status.busy": "2025-09-04T05:36:42.895007Z",
     "iopub.status.idle": "2025-09-04T05:36:42.945317Z",
     "shell.execute_reply": "2025-09-04T05:36:42.944087Z",
     "shell.execute_reply.started": "2025-09-04T05:36:42.895307Z"
    },
    "trusted": true
   },
   "outputs": [],
   "source": [
    "# Convert overview from str to list as well so that later we can concatinate everything\n",
    "movies['overview'] = movies['overview'].apply(lambda x: x.split())"
   ]
  },
  {
   "cell_type": "code",
   "execution_count": 66,
   "metadata": {
    "execution": {
     "iopub.execute_input": "2025-09-04T05:36:55.385771Z",
     "iopub.status.busy": "2025-09-04T05:36:55.385492Z",
     "iopub.status.idle": "2025-09-04T05:36:55.399995Z",
     "shell.execute_reply": "2025-09-04T05:36:55.399112Z",
     "shell.execute_reply.started": "2025-09-04T05:36:55.385746Z"
    },
    "trusted": true
   },
   "outputs": [
    {
     "data": {
      "text/html": [
       "<div>\n",
       "<style scoped>\n",
       "    .dataframe tbody tr th:only-of-type {\n",
       "        vertical-align: middle;\n",
       "    }\n",
       "\n",
       "    .dataframe tbody tr th {\n",
       "        vertical-align: top;\n",
       "    }\n",
       "\n",
       "    .dataframe thead th {\n",
       "        text-align: right;\n",
       "    }\n",
       "</style>\n",
       "<table border=\"1\" class=\"dataframe\">\n",
       "  <thead>\n",
       "    <tr style=\"text-align: right;\">\n",
       "      <th></th>\n",
       "      <th>movie_id</th>\n",
       "      <th>title</th>\n",
       "      <th>overview</th>\n",
       "      <th>genres</th>\n",
       "      <th>keywords</th>\n",
       "      <th>cast</th>\n",
       "      <th>crew</th>\n",
       "    </tr>\n",
       "  </thead>\n",
       "  <tbody>\n",
       "    <tr>\n",
       "      <th>0</th>\n",
       "      <td>19995</td>\n",
       "      <td>Avatar</td>\n",
       "      <td>[In, the, 22nd, century,, a, paraplegic, Marin...</td>\n",
       "      <td>[Action, Adventure, Fantasy, Science Fiction]</td>\n",
       "      <td>[culture clash, future, space war, space colon...</td>\n",
       "      <td>[Sam Worthington, Zoe Saldana, Sigourney Weaver]</td>\n",
       "      <td>[James Cameron]</td>\n",
       "    </tr>\n",
       "    <tr>\n",
       "      <th>1</th>\n",
       "      <td>285</td>\n",
       "      <td>Pirates of the Caribbean: At World's End</td>\n",
       "      <td>[Captain, Barbossa,, long, believed, to, be, d...</td>\n",
       "      <td>[Adventure, Fantasy, Action]</td>\n",
       "      <td>[ocean, drug abuse, exotic island, east india ...</td>\n",
       "      <td>[Johnny Depp, Orlando Bloom, Keira Knightley]</td>\n",
       "      <td>[Gore Verbinski]</td>\n",
       "    </tr>\n",
       "    <tr>\n",
       "      <th>2</th>\n",
       "      <td>206647</td>\n",
       "      <td>Spectre</td>\n",
       "      <td>[A, cryptic, message, from, Bond’s, past, send...</td>\n",
       "      <td>[Action, Adventure, Crime]</td>\n",
       "      <td>[spy, based on novel, secret agent, sequel, mi...</td>\n",
       "      <td>[Daniel Craig, Christoph Waltz, Léa Seydoux]</td>\n",
       "      <td>[Sam Mendes]</td>\n",
       "    </tr>\n",
       "    <tr>\n",
       "      <th>3</th>\n",
       "      <td>49026</td>\n",
       "      <td>The Dark Knight Rises</td>\n",
       "      <td>[Following, the, death, of, District, Attorney...</td>\n",
       "      <td>[Action, Crime, Drama, Thriller]</td>\n",
       "      <td>[dc comics, crime fighter, terrorist, secret i...</td>\n",
       "      <td>[Christian Bale, Michael Caine, Gary Oldman]</td>\n",
       "      <td>[Christopher Nolan]</td>\n",
       "    </tr>\n",
       "    <tr>\n",
       "      <th>4</th>\n",
       "      <td>49529</td>\n",
       "      <td>John Carter</td>\n",
       "      <td>[John, Carter, is, a, war-weary,, former, mili...</td>\n",
       "      <td>[Action, Adventure, Science Fiction]</td>\n",
       "      <td>[based on novel, mars, medallion, space travel...</td>\n",
       "      <td>[Taylor Kitsch, Lynn Collins, Samantha Morton]</td>\n",
       "      <td>[Andrew Stanton]</td>\n",
       "    </tr>\n",
       "  </tbody>\n",
       "</table>\n",
       "</div>"
      ],
      "text/plain": [
       "   movie_id                                     title  \\\n",
       "0     19995                                    Avatar   \n",
       "1       285  Pirates of the Caribbean: At World's End   \n",
       "2    206647                                   Spectre   \n",
       "3     49026                     The Dark Knight Rises   \n",
       "4     49529                               John Carter   \n",
       "\n",
       "                                            overview  \\\n",
       "0  [In, the, 22nd, century,, a, paraplegic, Marin...   \n",
       "1  [Captain, Barbossa,, long, believed, to, be, d...   \n",
       "2  [A, cryptic, message, from, Bond’s, past, send...   \n",
       "3  [Following, the, death, of, District, Attorney...   \n",
       "4  [John, Carter, is, a, war-weary,, former, mili...   \n",
       "\n",
       "                                          genres  \\\n",
       "0  [Action, Adventure, Fantasy, Science Fiction]   \n",
       "1                   [Adventure, Fantasy, Action]   \n",
       "2                     [Action, Adventure, Crime]   \n",
       "3               [Action, Crime, Drama, Thriller]   \n",
       "4           [Action, Adventure, Science Fiction]   \n",
       "\n",
       "                                            keywords  \\\n",
       "0  [culture clash, future, space war, space colon...   \n",
       "1  [ocean, drug abuse, exotic island, east india ...   \n",
       "2  [spy, based on novel, secret agent, sequel, mi...   \n",
       "3  [dc comics, crime fighter, terrorist, secret i...   \n",
       "4  [based on novel, mars, medallion, space travel...   \n",
       "\n",
       "                                               cast                 crew  \n",
       "0  [Sam Worthington, Zoe Saldana, Sigourney Weaver]      [James Cameron]  \n",
       "1     [Johnny Depp, Orlando Bloom, Keira Knightley]     [Gore Verbinski]  \n",
       "2      [Daniel Craig, Christoph Waltz, Léa Seydoux]         [Sam Mendes]  \n",
       "3      [Christian Bale, Michael Caine, Gary Oldman]  [Christopher Nolan]  \n",
       "4    [Taylor Kitsch, Lynn Collins, Samantha Morton]     [Andrew Stanton]  "
      ]
     },
     "execution_count": 66,
     "metadata": {},
     "output_type": "execute_result"
    }
   ],
   "source": [
    "movies.head()"
   ]
  },
  {
   "cell_type": "code",
   "execution_count": 72,
   "metadata": {
    "execution": {
     "iopub.execute_input": "2025-09-04T05:53:52.398995Z",
     "iopub.status.busy": "2025-09-04T05:53:52.398731Z",
     "iopub.status.idle": "2025-09-04T05:53:52.404769Z",
     "shell.execute_reply": "2025-09-04T05:53:52.403919Z",
     "shell.execute_reply.started": "2025-09-04T05:53:52.398979Z"
    },
    "trusted": true
   },
   "outputs": [
    {
     "data": {
      "text/plain": [
       "['Action', 'Adventure', 'Fantasy', 'ScienceFiction']"
      ]
     },
     "execution_count": 72,
     "metadata": {},
     "output_type": "execute_result"
    }
   ],
   "source": [
    "l = ['Action', 'Adventure', 'Fantasy', 'Science Fiction']\n",
    "a = lambda x: [i.replace(' ', '') for i in x]\n",
    "a(l)"
   ]
  },
  {
   "cell_type": "code",
   "execution_count": 74,
   "metadata": {
    "execution": {
     "iopub.execute_input": "2025-09-04T05:57:28.422723Z",
     "iopub.status.busy": "2025-09-04T05:57:28.422463Z",
     "iopub.status.idle": "2025-09-04T05:57:28.457213Z",
     "shell.execute_reply": "2025-09-04T05:57:28.456163Z",
     "shell.execute_reply.started": "2025-09-04T05:57:28.422707Z"
    },
    "trusted": true
   },
   "outputs": [],
   "source": [
    "# merge names to avoid conflict later on like: Sam Worthington -> SamWorthington, Sam Mendes -> SamMendes\n",
    "movies['genres'] = movies['genres'].apply(lambda x: [i.replace(' ', '') for i in x])\n",
    "movies['keywords'] = movies['keywords'].apply(lambda x: [i.replace(' ', '') for i in x])\n",
    "movies['cast'] = movies['cast'].apply(lambda x: [i.replace(' ', '') for i in x])\n",
    "movies['crew'] = movies['crew'].apply(lambda x: [i.replace(' ', '') for i in x])"
   ]
  },
  {
   "cell_type": "code",
   "execution_count": 76,
   "metadata": {
    "execution": {
     "iopub.execute_input": "2025-09-04T05:59:28.161964Z",
     "iopub.status.busy": "2025-09-04T05:59:28.161700Z",
     "iopub.status.idle": "2025-09-04T05:59:28.201068Z",
     "shell.execute_reply": "2025-09-04T05:59:28.200040Z",
     "shell.execute_reply.started": "2025-09-04T05:59:28.161948Z"
    },
    "trusted": true
   },
   "outputs": [],
   "source": [
    "movies['tags'] = movies['overview'] + movies['genres'] + movies['keywords'] + movies['cast'] + movies['crew']"
   ]
  },
  {
   "cell_type": "code",
   "execution_count": 77,
   "metadata": {
    "execution": {
     "iopub.execute_input": "2025-09-04T05:59:51.156725Z",
     "iopub.status.busy": "2025-09-04T05:59:51.156453Z",
     "iopub.status.idle": "2025-09-04T05:59:51.171277Z",
     "shell.execute_reply": "2025-09-04T05:59:51.170585Z",
     "shell.execute_reply.started": "2025-09-04T05:59:51.156705Z"
    },
    "trusted": true
   },
   "outputs": [
    {
     "data": {
      "text/html": [
       "<div>\n",
       "<style scoped>\n",
       "    .dataframe tbody tr th:only-of-type {\n",
       "        vertical-align: middle;\n",
       "    }\n",
       "\n",
       "    .dataframe tbody tr th {\n",
       "        vertical-align: top;\n",
       "    }\n",
       "\n",
       "    .dataframe thead th {\n",
       "        text-align: right;\n",
       "    }\n",
       "</style>\n",
       "<table border=\"1\" class=\"dataframe\">\n",
       "  <thead>\n",
       "    <tr style=\"text-align: right;\">\n",
       "      <th></th>\n",
       "      <th>movie_id</th>\n",
       "      <th>title</th>\n",
       "      <th>overview</th>\n",
       "      <th>genres</th>\n",
       "      <th>keywords</th>\n",
       "      <th>cast</th>\n",
       "      <th>crew</th>\n",
       "      <th>tags</th>\n",
       "    </tr>\n",
       "  </thead>\n",
       "  <tbody>\n",
       "    <tr>\n",
       "      <th>0</th>\n",
       "      <td>19995</td>\n",
       "      <td>Avatar</td>\n",
       "      <td>[In, the, 22nd, century,, a, paraplegic, Marin...</td>\n",
       "      <td>[Action, Adventure, Fantasy, ScienceFiction]</td>\n",
       "      <td>[cultureclash, future, spacewar, spacecolony, ...</td>\n",
       "      <td>[SamWorthington, ZoeSaldana, SigourneyWeaver]</td>\n",
       "      <td>[JamesCameron]</td>\n",
       "      <td>[In, the, 22nd, century,, a, paraplegic, Marin...</td>\n",
       "    </tr>\n",
       "    <tr>\n",
       "      <th>1</th>\n",
       "      <td>285</td>\n",
       "      <td>Pirates of the Caribbean: At World's End</td>\n",
       "      <td>[Captain, Barbossa,, long, believed, to, be, d...</td>\n",
       "      <td>[Adventure, Fantasy, Action]</td>\n",
       "      <td>[ocean, drugabuse, exoticisland, eastindiatrad...</td>\n",
       "      <td>[JohnnyDepp, OrlandoBloom, KeiraKnightley]</td>\n",
       "      <td>[GoreVerbinski]</td>\n",
       "      <td>[Captain, Barbossa,, long, believed, to, be, d...</td>\n",
       "    </tr>\n",
       "    <tr>\n",
       "      <th>2</th>\n",
       "      <td>206647</td>\n",
       "      <td>Spectre</td>\n",
       "      <td>[A, cryptic, message, from, Bond’s, past, send...</td>\n",
       "      <td>[Action, Adventure, Crime]</td>\n",
       "      <td>[spy, basedonnovel, secretagent, sequel, mi6, ...</td>\n",
       "      <td>[DanielCraig, ChristophWaltz, LéaSeydoux]</td>\n",
       "      <td>[SamMendes]</td>\n",
       "      <td>[A, cryptic, message, from, Bond’s, past, send...</td>\n",
       "    </tr>\n",
       "    <tr>\n",
       "      <th>3</th>\n",
       "      <td>49026</td>\n",
       "      <td>The Dark Knight Rises</td>\n",
       "      <td>[Following, the, death, of, District, Attorney...</td>\n",
       "      <td>[Action, Crime, Drama, Thriller]</td>\n",
       "      <td>[dccomics, crimefighter, terrorist, secretiden...</td>\n",
       "      <td>[ChristianBale, MichaelCaine, GaryOldman]</td>\n",
       "      <td>[ChristopherNolan]</td>\n",
       "      <td>[Following, the, death, of, District, Attorney...</td>\n",
       "    </tr>\n",
       "    <tr>\n",
       "      <th>4</th>\n",
       "      <td>49529</td>\n",
       "      <td>John Carter</td>\n",
       "      <td>[John, Carter, is, a, war-weary,, former, mili...</td>\n",
       "      <td>[Action, Adventure, ScienceFiction]</td>\n",
       "      <td>[basedonnovel, mars, medallion, spacetravel, p...</td>\n",
       "      <td>[TaylorKitsch, LynnCollins, SamanthaMorton]</td>\n",
       "      <td>[AndrewStanton]</td>\n",
       "      <td>[John, Carter, is, a, war-weary,, former, mili...</td>\n",
       "    </tr>\n",
       "  </tbody>\n",
       "</table>\n",
       "</div>"
      ],
      "text/plain": [
       "   movie_id                                     title  \\\n",
       "0     19995                                    Avatar   \n",
       "1       285  Pirates of the Caribbean: At World's End   \n",
       "2    206647                                   Spectre   \n",
       "3     49026                     The Dark Knight Rises   \n",
       "4     49529                               John Carter   \n",
       "\n",
       "                                            overview  \\\n",
       "0  [In, the, 22nd, century,, a, paraplegic, Marin...   \n",
       "1  [Captain, Barbossa,, long, believed, to, be, d...   \n",
       "2  [A, cryptic, message, from, Bond’s, past, send...   \n",
       "3  [Following, the, death, of, District, Attorney...   \n",
       "4  [John, Carter, is, a, war-weary,, former, mili...   \n",
       "\n",
       "                                         genres  \\\n",
       "0  [Action, Adventure, Fantasy, ScienceFiction]   \n",
       "1                  [Adventure, Fantasy, Action]   \n",
       "2                    [Action, Adventure, Crime]   \n",
       "3              [Action, Crime, Drama, Thriller]   \n",
       "4           [Action, Adventure, ScienceFiction]   \n",
       "\n",
       "                                            keywords  \\\n",
       "0  [cultureclash, future, spacewar, spacecolony, ...   \n",
       "1  [ocean, drugabuse, exoticisland, eastindiatrad...   \n",
       "2  [spy, basedonnovel, secretagent, sequel, mi6, ...   \n",
       "3  [dccomics, crimefighter, terrorist, secretiden...   \n",
       "4  [basedonnovel, mars, medallion, spacetravel, p...   \n",
       "\n",
       "                                            cast                crew  \\\n",
       "0  [SamWorthington, ZoeSaldana, SigourneyWeaver]      [JamesCameron]   \n",
       "1     [JohnnyDepp, OrlandoBloom, KeiraKnightley]     [GoreVerbinski]   \n",
       "2      [DanielCraig, ChristophWaltz, LéaSeydoux]         [SamMendes]   \n",
       "3      [ChristianBale, MichaelCaine, GaryOldman]  [ChristopherNolan]   \n",
       "4    [TaylorKitsch, LynnCollins, SamanthaMorton]     [AndrewStanton]   \n",
       "\n",
       "                                                tags  \n",
       "0  [In, the, 22nd, century,, a, paraplegic, Marin...  \n",
       "1  [Captain, Barbossa,, long, believed, to, be, d...  \n",
       "2  [A, cryptic, message, from, Bond’s, past, send...  \n",
       "3  [Following, the, death, of, District, Attorney...  \n",
       "4  [John, Carter, is, a, war-weary,, former, mili...  "
      ]
     },
     "execution_count": 77,
     "metadata": {},
     "output_type": "execute_result"
    }
   ],
   "source": [
    "movies.head()"
   ]
  },
  {
   "cell_type": "code",
   "execution_count": 78,
   "metadata": {
    "execution": {
     "iopub.execute_input": "2025-09-04T06:01:22.421214Z",
     "iopub.status.busy": "2025-09-04T06:01:22.420947Z",
     "iopub.status.idle": "2025-09-04T06:01:22.426534Z",
     "shell.execute_reply": "2025-09-04T06:01:22.425743Z",
     "shell.execute_reply.started": "2025-09-04T06:01:22.421194Z"
    },
    "trusted": true
   },
   "outputs": [],
   "source": [
    "new_df = movies[['movie_id', 'title', 'tags']]"
   ]
  },
  {
   "cell_type": "code",
   "execution_count": 80,
   "metadata": {
    "execution": {
     "iopub.execute_input": "2025-09-04T06:02:00.237963Z",
     "iopub.status.busy": "2025-09-04T06:02:00.237709Z",
     "iopub.status.idle": "2025-09-04T06:02:00.243580Z",
     "shell.execute_reply": "2025-09-04T06:02:00.242889Z",
     "shell.execute_reply.started": "2025-09-04T06:02:00.237947Z"
    },
    "trusted": true
   },
   "outputs": [
    {
     "data": {
      "text/plain": [
       "['In',\n",
       " 'the',\n",
       " '22nd',\n",
       " 'century,',\n",
       " 'a',\n",
       " 'paraplegic',\n",
       " 'Marine',\n",
       " 'is',\n",
       " 'dispatched',\n",
       " 'to',\n",
       " 'the',\n",
       " 'moon',\n",
       " 'Pandora',\n",
       " 'on',\n",
       " 'a',\n",
       " 'unique',\n",
       " 'mission,',\n",
       " 'but',\n",
       " 'becomes',\n",
       " 'torn',\n",
       " 'between',\n",
       " 'following',\n",
       " 'orders',\n",
       " 'and',\n",
       " 'protecting',\n",
       " 'an',\n",
       " 'alien',\n",
       " 'civilization.',\n",
       " 'Action',\n",
       " 'Adventure',\n",
       " 'Fantasy',\n",
       " 'ScienceFiction',\n",
       " 'cultureclash',\n",
       " 'future',\n",
       " 'spacewar',\n",
       " 'spacecolony',\n",
       " 'society',\n",
       " 'spacetravel',\n",
       " 'futuristic',\n",
       " 'romance',\n",
       " 'space',\n",
       " 'alien',\n",
       " 'tribe',\n",
       " 'alienplanet',\n",
       " 'cgi',\n",
       " 'marine',\n",
       " 'soldier',\n",
       " 'battle',\n",
       " 'loveaffair',\n",
       " 'antiwar',\n",
       " 'powerrelations',\n",
       " 'mindandsoul',\n",
       " '3d',\n",
       " 'SamWorthington',\n",
       " 'ZoeSaldana',\n",
       " 'SigourneyWeaver',\n",
       " 'JamesCameron']"
      ]
     },
     "execution_count": 80,
     "metadata": {},
     "output_type": "execute_result"
    }
   ],
   "source": [
    "new_df['tags'][0]"
   ]
  },
  {
   "cell_type": "code",
   "execution_count": 83,
   "metadata": {
    "execution": {
     "iopub.execute_input": "2025-09-04T06:04:56.108920Z",
     "iopub.status.busy": "2025-09-04T06:04:56.108647Z",
     "iopub.status.idle": "2025-09-04T06:04:56.125124Z",
     "shell.execute_reply": "2025-09-04T06:04:56.124149Z",
     "shell.execute_reply.started": "2025-09-04T06:04:56.108901Z"
    },
    "trusted": true
   },
   "outputs": [
    {
     "name": "stderr",
     "output_type": "stream",
     "text": [
      "/tmp/ipykernel_36/3089450492.py:1: SettingWithCopyWarning: \n",
      "A value is trying to be set on a copy of a slice from a DataFrame.\n",
      "Try using .loc[row_indexer,col_indexer] = value instead\n",
      "\n",
      "See the caveats in the documentation: https://pandas.pydata.org/pandas-docs/stable/user_guide/indexing.html#returning-a-view-versus-a-copy\n",
      "  new_df['tags'] = new_df['tags'].apply(lambda x:\" \".join(x))\n"
     ]
    }
   ],
   "source": [
    "new_df['tags'] = new_df['tags'].apply(lambda x:\" \".join(x))"
   ]
  },
  {
   "cell_type": "code",
   "execution_count": 85,
   "metadata": {
    "execution": {
     "iopub.execute_input": "2025-09-04T06:05:08.711837Z",
     "iopub.status.busy": "2025-09-04T06:05:08.711565Z",
     "iopub.status.idle": "2025-09-04T06:05:08.717908Z",
     "shell.execute_reply": "2025-09-04T06:05:08.716736Z",
     "shell.execute_reply.started": "2025-09-04T06:05:08.711818Z"
    },
    "trusted": true
   },
   "outputs": [
    {
     "data": {
      "text/plain": [
       "'In the 22nd century, a paraplegic Marine is dispatched to the moon Pandora on a unique mission, but becomes torn between following orders and protecting an alien civilization. Action Adventure Fantasy ScienceFiction cultureclash future spacewar spacecolony society spacetravel futuristic romance space alien tribe alienplanet cgi marine soldier battle loveaffair antiwar powerrelations mindandsoul 3d SamWorthington ZoeSaldana SigourneyWeaver JamesCameron'"
      ]
     },
     "execution_count": 85,
     "metadata": {},
     "output_type": "execute_result"
    }
   ],
   "source": [
    "new_df['tags'][0]"
   ]
  },
  {
   "cell_type": "code",
   "execution_count": 87,
   "metadata": {
    "execution": {
     "iopub.execute_input": "2025-09-04T06:10:26.172133Z",
     "iopub.status.busy": "2025-09-04T06:10:26.171808Z",
     "iopub.status.idle": "2025-09-04T06:10:26.186864Z",
     "shell.execute_reply": "2025-09-04T06:10:26.185730Z",
     "shell.execute_reply.started": "2025-09-04T06:10:26.172111Z"
    },
    "trusted": true
   },
   "outputs": [
    {
     "name": "stderr",
     "output_type": "stream",
     "text": [
      "/tmp/ipykernel_36/3214958533.py:1: SettingWithCopyWarning: \n",
      "A value is trying to be set on a copy of a slice from a DataFrame.\n",
      "Try using .loc[row_indexer,col_indexer] = value instead\n",
      "\n",
      "See the caveats in the documentation: https://pandas.pydata.org/pandas-docs/stable/user_guide/indexing.html#returning-a-view-versus-a-copy\n",
      "  new_df['tags'] = new_df['tags'].apply(lambda x:x.lower())\n"
     ]
    }
   ],
   "source": [
    "new_df['tags'] = new_df['tags'].apply(lambda x:x.lower())"
   ]
  },
  {
   "cell_type": "code",
   "execution_count": 89,
   "metadata": {
    "execution": {
     "iopub.execute_input": "2025-09-04T06:11:19.666862Z",
     "iopub.status.busy": "2025-09-04T06:11:19.666140Z",
     "iopub.status.idle": "2025-09-04T06:11:19.674197Z",
     "shell.execute_reply": "2025-09-04T06:11:19.673034Z",
     "shell.execute_reply.started": "2025-09-04T06:11:19.666839Z"
    },
    "trusted": true
   },
   "outputs": [
    {
     "data": {
      "text/html": [
       "<div>\n",
       "<style scoped>\n",
       "    .dataframe tbody tr th:only-of-type {\n",
       "        vertical-align: middle;\n",
       "    }\n",
       "\n",
       "    .dataframe tbody tr th {\n",
       "        vertical-align: top;\n",
       "    }\n",
       "\n",
       "    .dataframe thead th {\n",
       "        text-align: right;\n",
       "    }\n",
       "</style>\n",
       "<table border=\"1\" class=\"dataframe\">\n",
       "  <thead>\n",
       "    <tr style=\"text-align: right;\">\n",
       "      <th></th>\n",
       "      <th>movie_id</th>\n",
       "      <th>title</th>\n",
       "      <th>tags</th>\n",
       "    </tr>\n",
       "  </thead>\n",
       "  <tbody>\n",
       "    <tr>\n",
       "      <th>0</th>\n",
       "      <td>19995</td>\n",
       "      <td>Avatar</td>\n",
       "      <td>in the 22nd century, a paraplegic marine is di...</td>\n",
       "    </tr>\n",
       "    <tr>\n",
       "      <th>1</th>\n",
       "      <td>285</td>\n",
       "      <td>Pirates of the Caribbean: At World's End</td>\n",
       "      <td>captain barbossa, long believed to be dead, ha...</td>\n",
       "    </tr>\n",
       "    <tr>\n",
       "      <th>2</th>\n",
       "      <td>206647</td>\n",
       "      <td>Spectre</td>\n",
       "      <td>a cryptic message from bond’s past sends him o...</td>\n",
       "    </tr>\n",
       "    <tr>\n",
       "      <th>3</th>\n",
       "      <td>49026</td>\n",
       "      <td>The Dark Knight Rises</td>\n",
       "      <td>following the death of district attorney harve...</td>\n",
       "    </tr>\n",
       "    <tr>\n",
       "      <th>4</th>\n",
       "      <td>49529</td>\n",
       "      <td>John Carter</td>\n",
       "      <td>john carter is a war-weary, former military ca...</td>\n",
       "    </tr>\n",
       "  </tbody>\n",
       "</table>\n",
       "</div>"
      ],
      "text/plain": [
       "   movie_id                                     title  \\\n",
       "0     19995                                    Avatar   \n",
       "1       285  Pirates of the Caribbean: At World's End   \n",
       "2    206647                                   Spectre   \n",
       "3     49026                     The Dark Knight Rises   \n",
       "4     49529                               John Carter   \n",
       "\n",
       "                                                tags  \n",
       "0  in the 22nd century, a paraplegic marine is di...  \n",
       "1  captain barbossa, long believed to be dead, ha...  \n",
       "2  a cryptic message from bond’s past sends him o...  \n",
       "3  following the death of district attorney harve...  \n",
       "4  john carter is a war-weary, former military ca...  "
      ]
     },
     "execution_count": 89,
     "metadata": {},
     "output_type": "execute_result"
    }
   ],
   "source": [
    "new_df.head()"
   ]
  },
  {
   "cell_type": "code",
   "execution_count": null,
   "metadata": {
    "trusted": true
   },
   "outputs": [],
   "source": [
    "import nltk\n",
    "from nltk.stem.porter import PorterStemmer\n",
    "ps = PorterStemmer()"
   ]
  },
  {
   "cell_type": "code",
   "execution_count": 100,
   "metadata": {
    "execution": {
     "iopub.execute_input": "2025-09-04T06:32:45.013092Z",
     "iopub.status.busy": "2025-09-04T06:32:45.012804Z",
     "iopub.status.idle": "2025-09-04T06:32:45.017632Z",
     "shell.execute_reply": "2025-09-04T06:32:45.016709Z",
     "shell.execute_reply.started": "2025-09-04T06:32:45.013071Z"
    },
    "trusted": true
   },
   "outputs": [],
   "source": [
    "def stem(text):\n",
    "    y = []\n",
    "    for i in text.split():\n",
    "        y.append(ps.stem(i))\n",
    "    return ' '.join(y)"
   ]
  },
  {
   "cell_type": "code",
   "execution_count": 101,
   "metadata": {
    "execution": {
     "iopub.execute_input": "2025-09-04T06:34:27.163509Z",
     "iopub.status.busy": "2025-09-04T06:34:27.163193Z",
     "iopub.status.idle": "2025-09-04T06:34:29.908528Z",
     "shell.execute_reply": "2025-09-04T06:34:29.907521Z",
     "shell.execute_reply.started": "2025-09-04T06:34:27.163490Z"
    },
    "trusted": true
   },
   "outputs": [
    {
     "name": "stderr",
     "output_type": "stream",
     "text": [
      "/tmp/ipykernel_36/3213734980.py:1: SettingWithCopyWarning: \n",
      "A value is trying to be set on a copy of a slice from a DataFrame.\n",
      "Try using .loc[row_indexer,col_indexer] = value instead\n",
      "\n",
      "See the caveats in the documentation: https://pandas.pydata.org/pandas-docs/stable/user_guide/indexing.html#returning-a-view-versus-a-copy\n",
      "  new_df['tags'] = new_df['tags'].apply(stem)\n"
     ]
    }
   ],
   "source": [
    "new_df['tags'] = new_df['tags'].apply(stem)"
   ]
  },
  {
   "cell_type": "code",
   "execution_count": 102,
   "metadata": {
    "execution": {
     "iopub.execute_input": "2025-09-04T06:34:43.098166Z",
     "iopub.status.busy": "2025-09-04T06:34:43.097844Z",
     "iopub.status.idle": "2025-09-04T06:34:43.102957Z",
     "shell.execute_reply": "2025-09-04T06:34:43.102060Z",
     "shell.execute_reply.started": "2025-09-04T06:34:43.098146Z"
    },
    "trusted": true
   },
   "outputs": [],
   "source": [
    "from sklearn.feature_extraction.text import CountVectorizer\n",
    "cv = CountVectorizer(max_features=5000, stop_words='english')"
   ]
  },
  {
   "cell_type": "code",
   "execution_count": 103,
   "metadata": {
    "execution": {
     "iopub.execute_input": "2025-09-04T06:34:44.465733Z",
     "iopub.status.busy": "2025-09-04T06:34:44.465425Z",
     "iopub.status.idle": "2025-09-04T06:34:45.174209Z",
     "shell.execute_reply": "2025-09-04T06:34:45.173018Z",
     "shell.execute_reply.started": "2025-09-04T06:34:44.465714Z"
    },
    "trusted": true
   },
   "outputs": [
    {
     "data": {
      "text/plain": [
       "(4806, 5000)"
      ]
     },
     "execution_count": 103,
     "metadata": {},
     "output_type": "execute_result"
    }
   ],
   "source": [
    "# cv.fit_transform() returns spare matrix\n",
    "cv.fit_transform(new_df['tags']).toarray().shape"
   ]
  },
  {
   "cell_type": "code",
   "execution_count": 104,
   "metadata": {
    "execution": {
     "iopub.execute_input": "2025-09-04T06:34:50.834304Z",
     "iopub.status.busy": "2025-09-04T06:34:50.833999Z",
     "iopub.status.idle": "2025-09-04T06:34:51.232546Z",
     "shell.execute_reply": "2025-09-04T06:34:51.231387Z",
     "shell.execute_reply.started": "2025-09-04T06:34:50.834248Z"
    },
    "trusted": true
   },
   "outputs": [],
   "source": [
    "vectors = cv.fit_transform(new_df['tags']).toarray()"
   ]
  },
  {
   "cell_type": "code",
   "execution_count": 105,
   "metadata": {
    "execution": {
     "iopub.execute_input": "2025-09-04T06:34:56.072525Z",
     "iopub.status.busy": "2025-09-04T06:34:56.072209Z",
     "iopub.status.idle": "2025-09-04T06:34:56.078852Z",
     "shell.execute_reply": "2025-09-04T06:34:56.077896Z",
     "shell.execute_reply.started": "2025-09-04T06:34:56.072506Z"
    },
    "trusted": true
   },
   "outputs": [
    {
     "data": {
      "text/plain": [
       "array([[0, 0, 0, ..., 0, 0, 0],\n",
       "       [0, 0, 0, ..., 0, 0, 0],\n",
       "       [0, 0, 0, ..., 0, 0, 0],\n",
       "       ...,\n",
       "       [0, 0, 0, ..., 0, 0, 0],\n",
       "       [0, 0, 0, ..., 0, 0, 0],\n",
       "       [0, 0, 0, ..., 0, 0, 0]])"
      ]
     },
     "execution_count": 105,
     "metadata": {},
     "output_type": "execute_result"
    }
   ],
   "source": [
    "vectors"
   ]
  },
  {
   "cell_type": "code",
   "execution_count": 112,
   "metadata": {
    "execution": {
     "iopub.execute_input": "2025-09-04T06:38:05.327886Z",
     "iopub.status.busy": "2025-09-04T06:38:05.327554Z",
     "iopub.status.idle": "2025-09-04T06:38:05.336075Z",
     "shell.execute_reply": "2025-09-04T06:38:05.335300Z",
     "shell.execute_reply.started": "2025-09-04T06:38:05.327866Z"
    },
    "trusted": true
   },
   "outputs": [
    {
     "data": {
      "text/plain": [
       "array(['000', '007', '10', ..., 'zone', 'zoo', 'zooeydeschanel'],\n",
       "      dtype=object)"
      ]
     },
     "execution_count": 112,
     "metadata": {},
     "output_type": "execute_result"
    }
   ],
   "source": [
    "cv.get_feature_names_out()"
   ]
  },
  {
   "cell_type": "code",
   "execution_count": 114,
   "metadata": {
    "execution": {
     "iopub.execute_input": "2025-09-04T06:40:18.229388Z",
     "iopub.status.busy": "2025-09-04T06:40:18.229057Z",
     "iopub.status.idle": "2025-09-04T06:40:18.233871Z",
     "shell.execute_reply": "2025-09-04T06:40:18.233167Z",
     "shell.execute_reply.started": "2025-09-04T06:40:18.229367Z"
    },
    "trusted": true
   },
   "outputs": [],
   "source": [
    "from sklearn.metrics.pairwise import cosine_similarity"
   ]
  },
  {
   "cell_type": "code",
   "execution_count": 118,
   "metadata": {
    "execution": {
     "iopub.execute_input": "2025-09-04T06:41:47.170052Z",
     "iopub.status.busy": "2025-09-04T06:41:47.169142Z",
     "iopub.status.idle": "2025-09-04T06:41:48.894754Z",
     "shell.execute_reply": "2025-09-04T06:41:48.893948Z",
     "shell.execute_reply.started": "2025-09-04T06:41:47.170029Z"
    },
    "trusted": true
   },
   "outputs": [],
   "source": [
    "similarity = cosine_similarity(vectors)"
   ]
  },
  {
   "cell_type": "code",
   "execution_count": 116,
   "metadata": {
    "execution": {
     "iopub.execute_input": "2025-09-04T06:41:01.532320Z",
     "iopub.status.busy": "2025-09-04T06:41:01.532032Z",
     "iopub.status.idle": "2025-09-04T06:41:03.462921Z",
     "shell.execute_reply": "2025-09-04T06:41:03.462248Z",
     "shell.execute_reply.started": "2025-09-04T06:41:01.532302Z"
    },
    "trusted": true
   },
   "outputs": [
    {
     "data": {
      "text/plain": [
       "(4806, 4806)"
      ]
     },
     "execution_count": 116,
     "metadata": {},
     "output_type": "execute_result"
    }
   ],
   "source": [
    "similarity.shape"
   ]
  },
  {
   "cell_type": "code",
   "execution_count": 119,
   "metadata": {
    "execution": {
     "iopub.execute_input": "2025-09-04T06:42:54.328957Z",
     "iopub.status.busy": "2025-09-04T06:42:54.328684Z",
     "iopub.status.idle": "2025-09-04T06:42:54.334904Z",
     "shell.execute_reply": "2025-09-04T06:42:54.334184Z",
     "shell.execute_reply.started": "2025-09-04T06:42:54.328940Z"
    },
    "trusted": true
   },
   "outputs": [
    {
     "data": {
      "text/plain": [
       "array([1.        , 0.08346223, 0.0860309 , ..., 0.04499213, 0.        ,\n",
       "       0.        ])"
      ]
     },
     "execution_count": 119,
     "metadata": {},
     "output_type": "execute_result"
    }
   ],
   "source": [
    "similarity[0] # shoiwng similarity of first movie with every movie"
   ]
  },
  {
   "cell_type": "code",
   "execution_count": 123,
   "metadata": {
    "execution": {
     "iopub.execute_input": "2025-09-04T06:50:07.701623Z",
     "iopub.status.busy": "2025-09-04T06:50:07.701302Z",
     "iopub.status.idle": "2025-09-04T06:50:07.706089Z",
     "shell.execute_reply": "2025-09-04T06:50:07.705079Z",
     "shell.execute_reply.started": "2025-09-04T06:50:07.701599Z"
    },
    "trusted": true
   },
   "outputs": [],
   "source": [
    "# add index/id with similarities\n",
    "#list(enumerate(similarity[0]))"
   ]
  },
  {
   "cell_type": "code",
   "execution_count": 124,
   "metadata": {
    "execution": {
     "iopub.execute_input": "2025-09-04T06:52:36.318833Z",
     "iopub.status.busy": "2025-09-04T06:52:36.318543Z",
     "iopub.status.idle": "2025-09-04T06:52:36.327051Z",
     "shell.execute_reply": "2025-09-04T06:52:36.326202Z",
     "shell.execute_reply.started": "2025-09-04T06:52:36.318814Z"
    },
    "trusted": true
   },
   "outputs": [
    {
     "data": {
      "text/plain": [
       "[(1214, 0.2867696673382022),\n",
       " (2405, 0.26901379342448517),\n",
       " (3728, 0.2605130246476754),\n",
       " (507, 0.255608593705383),\n",
       " (539, 0.25038669783359574)]"
      ]
     },
     "execution_count": 124,
     "metadata": {},
     "output_type": "execute_result"
    }
   ],
   "source": [
    "# top 5 movies similar with first movie\n",
    "sorted(list(enumerate(similarity[0])), reverse=True, key=lambda x: x[1])[1:6]"
   ]
  },
  {
   "cell_type": "code",
   "execution_count": 133,
   "metadata": {
    "execution": {
     "iopub.execute_input": "2025-09-04T06:59:10.680841Z",
     "iopub.status.busy": "2025-09-04T06:59:10.680541Z",
     "iopub.status.idle": "2025-09-04T06:59:10.687381Z",
     "shell.execute_reply": "2025-09-04T06:59:10.686664Z",
     "shell.execute_reply.started": "2025-09-04T06:59:10.680821Z"
    },
    "trusted": true
   },
   "outputs": [
    {
     "data": {
      "text/plain": [
       "movie_id                                                  440\n",
       "title                             Aliens vs Predator: Requiem\n",
       "tags        a sequel to 2004' alien vs. predator, the icon...\n",
       "Name: 1214, dtype: object"
      ]
     },
     "execution_count": 133,
     "metadata": {},
     "output_type": "execute_result"
    }
   ],
   "source": [
    "new_df.iloc[1214]"
   ]
  },
  {
   "cell_type": "code",
   "execution_count": 159,
   "metadata": {
    "execution": {
     "iopub.execute_input": "2025-09-04T07:10:44.786167Z",
     "iopub.status.busy": "2025-09-04T07:10:44.785875Z",
     "iopub.status.idle": "2025-09-04T07:10:44.791842Z",
     "shell.execute_reply": "2025-09-04T07:10:44.790471Z",
     "shell.execute_reply.started": "2025-09-04T07:10:44.786147Z"
    },
    "trusted": true
   },
   "outputs": [],
   "source": [
    "def recommend(movie):\n",
    "    # fetching index of movie from new_df \n",
    "    movie_index = new_df[new_df['title'] == movie].index[0]\n",
    "    # distances from all other movies, returns as array\n",
    "    distances = similarity[movie_index]\n",
    "    movies_list = sorted(list(enumerate(distances)), reverse=True, key=lambda x: x[1])[1:6]\n",
    "\n",
    "    for i in movies_list:\n",
    "        print(new_df.iloc[i[0]].title)\n"
   ]
  },
  {
   "cell_type": "code",
   "execution_count": 162,
   "metadata": {
    "execution": {
     "iopub.execute_input": "2025-09-04T07:11:39.998966Z",
     "iopub.status.busy": "2025-09-04T07:11:39.998032Z",
     "iopub.status.idle": "2025-09-04T07:11:40.008784Z",
     "shell.execute_reply": "2025-09-04T07:11:40.007534Z",
     "shell.execute_reply.started": "2025-09-04T07:11:39.998927Z"
    },
    "trusted": true
   },
   "outputs": [
    {
     "name": "stdout",
     "output_type": "stream",
     "text": [
      "The Notebook\n",
      "Under the Same Moon\n",
      "Ghost Ship\n",
      "The Bounty\n",
      "Pirates of the Caribbean: On Stranger Tides\n"
     ]
    }
   ],
   "source": [
    "recommend(\"Titanic\")"
   ]
  },
  {
   "cell_type": "code",
   "execution_count": 152,
   "metadata": {
    "execution": {
     "iopub.execute_input": "2025-09-04T07:08:08.384009Z",
     "iopub.status.busy": "2025-09-04T07:08:08.383724Z",
     "iopub.status.idle": "2025-09-04T07:08:08.390507Z",
     "shell.execute_reply": "2025-09-04T07:08:08.389885Z",
     "shell.execute_reply.started": "2025-09-04T07:08:08.383990Z"
    },
    "trusted": true
   },
   "outputs": [],
   "source": [
    "movies_list = sorted(list(enumerate(similarity[1])), reverse=True, key=lambda x: x[1])[1:6]"
   ]
  },
  {
   "cell_type": "code",
   "execution_count": 163,
   "metadata": {
    "execution": {
     "iopub.execute_input": "2025-09-04T07:23:37.166997Z",
     "iopub.status.busy": "2025-09-04T07:23:37.166322Z",
     "iopub.status.idle": "2025-09-04T07:23:37.172855Z",
     "shell.execute_reply": "2025-09-04T07:23:37.171670Z",
     "shell.execute_reply.started": "2025-09-04T07:23:37.166961Z"
    },
    "trusted": true
   },
   "outputs": [],
   "source": [
    "import pickle"
   ]
  },
  {
   "cell_type": "code",
   "execution_count": 164,
   "metadata": {
    "execution": {
     "iopub.execute_input": "2025-09-04T07:24:57.059735Z",
     "iopub.status.busy": "2025-09-04T07:24:57.059463Z",
     "iopub.status.idle": "2025-09-04T07:24:57.070295Z",
     "shell.execute_reply": "2025-09-04T07:24:57.069491Z",
     "shell.execute_reply.started": "2025-09-04T07:24:57.059716Z"
    },
    "trusted": true
   },
   "outputs": [],
   "source": [
    "pickle.dump(new_df,open('movies.pkl', 'wb'))"
   ]
  },
  {
   "cell_type": "code",
   "execution_count": 167,
   "metadata": {
    "execution": {
     "iopub.execute_input": "2025-09-04T07:35:04.796596Z",
     "iopub.status.busy": "2025-09-04T07:35:04.796334Z",
     "iopub.status.idle": "2025-09-04T07:35:04.813623Z",
     "shell.execute_reply": "2025-09-04T07:35:04.812584Z",
     "shell.execute_reply.started": "2025-09-04T07:35:04.796579Z"
    },
    "trusted": true
   },
   "outputs": [],
   "source": [
    "pickle.dump(new_df.to_dict(), open('movie_dict.pkl', 'wb'))"
   ]
  },
  {
   "cell_type": "code",
   "execution_count": 169,
   "metadata": {
    "execution": {
     "iopub.execute_input": "2025-09-04T07:38:06.508163Z",
     "iopub.status.busy": "2025-09-04T07:38:06.507888Z",
     "iopub.status.idle": "2025-09-04T07:38:06.513122Z",
     "shell.execute_reply": "2025-09-04T07:38:06.512546Z",
     "shell.execute_reply.started": "2025-09-04T07:38:06.508145Z"
    },
    "trusted": true
   },
   "outputs": [
    {
     "data": {
      "text/plain": [
       "array(['Avatar', \"Pirates of the Caribbean: At World's End\", 'Spectre',\n",
       "       ..., 'Signed, Sealed, Delivered', 'Shanghai Calling',\n",
       "       'My Date with Drew'], dtype=object)"
      ]
     },
     "execution_count": 169,
     "metadata": {},
     "output_type": "execute_result"
    }
   ],
   "source": [
    "new_df['title'].values"
   ]
  },
  {
   "cell_type": "code",
   "execution_count": 172,
   "metadata": {
    "execution": {
     "iopub.execute_input": "2025-09-04T08:20:40.927050Z",
     "iopub.status.busy": "2025-09-04T08:20:40.926744Z",
     "iopub.status.idle": "2025-09-04T08:20:41.269198Z",
     "shell.execute_reply": "2025-09-04T08:20:41.268081Z",
     "shell.execute_reply.started": "2025-09-04T08:20:40.927028Z"
    },
    "trusted": true
   },
   "outputs": [],
   "source": [
    "pickle.dump(similarity, open('similarity.pkl', 'wb'))"
   ]
  },
  {
   "cell_type": "code",
   "execution_count": null,
   "metadata": {},
   "outputs": [],
   "source": [
    "import pickle, gzip\n",
    "\n",
    "with gzip.open('similarity.pkl.gz', 'wb') as f:\n",
    "    pickle.dump(similarity, f)\n"
   ]
  },
  {
   "cell_type": "code",
   "execution_count": 171,
   "metadata": {
    "execution": {
     "iopub.execute_input": "2025-09-04T08:17:05.741602Z",
     "iopub.status.busy": "2025-09-04T08:17:05.740631Z",
     "iopub.status.idle": "2025-09-04T08:17:05.758953Z",
     "shell.execute_reply": "2025-09-04T08:17:05.758078Z",
     "shell.execute_reply.started": "2025-09-04T08:17:05.741560Z"
    },
    "trusted": true
   },
   "outputs": [
    {
     "data": {
      "text/plain": [
       "['Avatar',\n",
       " \"Pirates of the Caribbean: At World's End\",\n",
       " 'Spectre',\n",
       " 'The Dark Knight Rises',\n",
       " 'John Carter',\n",
       " 'Spider-Man 3',\n",
       " 'Tangled',\n",
       " 'Avengers: Age of Ultron',\n",
       " 'Harry Potter and the Half-Blood Prince',\n",
       " 'Batman v Superman: Dawn of Justice',\n",
       " 'Superman Returns',\n",
       " 'Quantum of Solace',\n",
       " \"Pirates of the Caribbean: Dead Man's Chest\",\n",
       " 'The Lone Ranger',\n",
       " 'Man of Steel',\n",
       " 'The Chronicles of Narnia: Prince Caspian',\n",
       " 'The Avengers',\n",
       " 'Pirates of the Caribbean: On Stranger Tides',\n",
       " 'Men in Black 3',\n",
       " 'The Hobbit: The Battle of the Five Armies',\n",
       " 'The Amazing Spider-Man',\n",
       " 'Robin Hood',\n",
       " 'The Hobbit: The Desolation of Smaug',\n",
       " 'The Golden Compass',\n",
       " 'King Kong',\n",
       " 'Titanic',\n",
       " 'Captain America: Civil War',\n",
       " 'Battleship',\n",
       " 'Jurassic World',\n",
       " 'Skyfall',\n",
       " 'Spider-Man 2',\n",
       " 'Iron Man 3',\n",
       " 'Alice in Wonderland',\n",
       " 'X-Men: The Last Stand',\n",
       " 'Monsters University',\n",
       " 'Transformers: Revenge of the Fallen',\n",
       " 'Transformers: Age of Extinction',\n",
       " 'Oz: The Great and Powerful',\n",
       " 'The Amazing Spider-Man 2',\n",
       " 'TRON: Legacy',\n",
       " 'Cars 2',\n",
       " 'Green Lantern',\n",
       " 'Toy Story 3',\n",
       " 'Terminator Salvation',\n",
       " 'Furious 7',\n",
       " 'World War Z',\n",
       " 'X-Men: Days of Future Past',\n",
       " 'Star Trek Into Darkness',\n",
       " 'Jack the Giant Slayer',\n",
       " 'The Great Gatsby',\n",
       " 'Prince of Persia: The Sands of Time',\n",
       " 'Pacific Rim',\n",
       " 'Transformers: Dark of the Moon',\n",
       " 'Indiana Jones and the Kingdom of the Crystal Skull',\n",
       " 'The Good Dinosaur',\n",
       " 'Brave',\n",
       " 'Star Trek Beyond',\n",
       " 'WALL·E',\n",
       " 'Rush Hour 3',\n",
       " '2012',\n",
       " 'A Christmas Carol',\n",
       " 'Jupiter Ascending',\n",
       " 'The Legend of Tarzan',\n",
       " 'The Chronicles of Narnia: The Lion, the Witch and the Wardrobe',\n",
       " 'X-Men: Apocalypse',\n",
       " 'The Dark Knight',\n",
       " 'Up',\n",
       " 'Monsters vs Aliens',\n",
       " 'Iron Man',\n",
       " 'Hugo',\n",
       " 'Wild Wild West',\n",
       " 'The Mummy: Tomb of the Dragon Emperor',\n",
       " 'Suicide Squad',\n",
       " 'Evan Almighty',\n",
       " 'Edge of Tomorrow',\n",
       " 'Waterworld',\n",
       " 'G.I. Joe: The Rise of Cobra',\n",
       " 'Inside Out',\n",
       " 'The Jungle Book',\n",
       " 'Iron Man 2',\n",
       " 'Snow White and the Huntsman',\n",
       " 'Maleficent',\n",
       " 'Dawn of the Planet of the Apes',\n",
       " 'The Lovers',\n",
       " '47 Ronin',\n",
       " 'Captain America: The Winter Soldier',\n",
       " 'Shrek Forever After',\n",
       " 'Tomorrowland',\n",
       " 'Big Hero 6',\n",
       " 'Wreck-It Ralph',\n",
       " 'The Polar Express',\n",
       " 'Independence Day: Resurgence',\n",
       " 'How to Train Your Dragon',\n",
       " 'Terminator 3: Rise of the Machines',\n",
       " 'Guardians of the Galaxy',\n",
       " 'Interstellar',\n",
       " 'Inception',\n",
       " 'Shin Godzilla',\n",
       " 'The Hobbit: An Unexpected Journey',\n",
       " 'The Fast and the Furious',\n",
       " 'The Curious Case of Benjamin Button',\n",
       " 'X-Men: First Class',\n",
       " 'The Hunger Games: Mockingjay - Part 2',\n",
       " \"The Sorcerer's Apprentice\",\n",
       " 'Poseidon',\n",
       " 'Alice Through the Looking Glass',\n",
       " 'Shrek the Third',\n",
       " 'Warcraft',\n",
       " 'Terminator Genisys',\n",
       " 'The Chronicles of Narnia: The Voyage of the Dawn Treader',\n",
       " 'Pearl Harbor',\n",
       " 'Transformers',\n",
       " 'Alexander',\n",
       " 'Harry Potter and the Order of the Phoenix',\n",
       " 'Harry Potter and the Goblet of Fire',\n",
       " 'Hancock',\n",
       " 'I Am Legend',\n",
       " 'Charlie and the Chocolate Factory',\n",
       " 'Ratatouille',\n",
       " 'Batman Begins',\n",
       " 'Madagascar: Escape 2 Africa',\n",
       " 'Night at the Museum: Battle of the Smithsonian',\n",
       " 'X-Men Origins: Wolverine',\n",
       " 'The Matrix Revolutions',\n",
       " 'Frozen',\n",
       " 'The Matrix Reloaded',\n",
       " 'Thor: The Dark World',\n",
       " 'Mad Max: Fury Road',\n",
       " 'Angels & Demons',\n",
       " 'Thor',\n",
       " 'Bolt',\n",
       " 'G-Force',\n",
       " 'Wrath of the Titans',\n",
       " 'Dark Shadows',\n",
       " 'Mission: Impossible - Rogue Nation',\n",
       " 'The Wolfman',\n",
       " 'Bee Movie',\n",
       " 'Kung Fu Panda 2',\n",
       " 'The Last Airbender',\n",
       " 'Mission: Impossible III',\n",
       " 'White House Down',\n",
       " 'Mars Needs Moms',\n",
       " 'Flushed Away',\n",
       " 'Pan',\n",
       " 'Mr. Peabody & Sherman',\n",
       " 'Troy',\n",
       " \"Madagascar 3: Europe's Most Wanted\",\n",
       " 'Die Another Day',\n",
       " 'Ghostbusters',\n",
       " 'Armageddon',\n",
       " 'Men in Black II',\n",
       " 'Beowulf',\n",
       " 'Kung Fu Panda 3',\n",
       " 'Mission: Impossible - Ghost Protocol',\n",
       " 'Rise of the Guardians',\n",
       " 'Fun with Dick and Jane',\n",
       " 'The Last Samurai',\n",
       " 'Exodus: Gods and Kings',\n",
       " 'Star Trek',\n",
       " 'Spider-Man',\n",
       " 'How to Train Your Dragon 2',\n",
       " 'Gods of Egypt',\n",
       " 'Stealth',\n",
       " 'Watchmen',\n",
       " 'Lethal Weapon 4',\n",
       " 'Hulk',\n",
       " 'G.I. Joe: Retaliation',\n",
       " 'Sahara',\n",
       " 'Final Fantasy: The Spirits Within',\n",
       " 'Captain America: The First Avenger',\n",
       " 'The World Is Not Enough',\n",
       " 'Master and Commander: The Far Side of the World',\n",
       " 'The Twilight Saga: Breaking Dawn - Part 2',\n",
       " 'Happy Feet Two',\n",
       " 'The Incredible Hulk',\n",
       " 'The BFG',\n",
       " 'The Revenant',\n",
       " 'Turbo',\n",
       " 'Rango',\n",
       " 'Penguins of Madagascar',\n",
       " 'The Bourne Ultimatum',\n",
       " 'Kung Fu Panda',\n",
       " 'Ant-Man',\n",
       " 'The Hunger Games: Catching Fire',\n",
       " 'Home',\n",
       " 'War of the Worlds',\n",
       " 'Bad Boys II',\n",
       " 'Puss in Boots',\n",
       " 'Salt',\n",
       " 'Noah',\n",
       " 'The Adventures of Tintin',\n",
       " 'Harry Potter and the Prisoner of Azkaban',\n",
       " 'Australia',\n",
       " 'After Earth',\n",
       " 'Dinosaur',\n",
       " 'Night at the Museum: Secret of the Tomb',\n",
       " 'Megamind',\n",
       " \"Harry Potter and the Philosopher's Stone\",\n",
       " 'R.I.P.D.',\n",
       " 'Pirates of the Caribbean: The Curse of the Black Pearl',\n",
       " 'The Hunger Games: Mockingjay - Part 1',\n",
       " 'The Da Vinci Code',\n",
       " 'Rio 2',\n",
       " 'X2',\n",
       " 'Fast Five',\n",
       " 'Sherlock Holmes: A Game of Shadows',\n",
       " 'Clash of the Titans',\n",
       " 'Total Recall',\n",
       " 'The 13th Warrior',\n",
       " 'The Bourne Legacy',\n",
       " 'Batman & Robin',\n",
       " 'How the Grinch Stole Christmas',\n",
       " 'The Day After Tomorrow',\n",
       " 'Mission: Impossible II',\n",
       " 'The Perfect Storm',\n",
       " 'Fantastic 4: Rise of the Silver Surfer',\n",
       " 'Life of Pi',\n",
       " 'Ghost Rider',\n",
       " 'Jason Bourne',\n",
       " \"Charlie's Angels: Full Throttle\",\n",
       " 'Prometheus',\n",
       " 'Stuart Little 2',\n",
       " 'Elysium',\n",
       " 'The Chronicles of Riddick',\n",
       " 'RoboCop',\n",
       " 'Speed Racer',\n",
       " 'How Do You Know',\n",
       " 'Knight and Day',\n",
       " 'Oblivion',\n",
       " 'Star Wars: Episode III - Revenge of the Sith',\n",
       " 'Star Wars: Episode II - Attack of the Clones',\n",
       " 'Monsters, Inc.',\n",
       " 'The Wolverine',\n",
       " 'Star Wars: Episode I - The Phantom Menace',\n",
       " 'The Croods',\n",
       " 'Asterix at the Olympic Games',\n",
       " 'Windtalkers',\n",
       " \"The Huntsman: Winter's War\",\n",
       " 'Teenage Mutant Ninja Turtles',\n",
       " 'Gravity',\n",
       " \"Dante's Peak\",\n",
       " 'Teenage Mutant Ninja Turtles: Out of the Shadows',\n",
       " 'Fantastic Four',\n",
       " 'Night at the Museum',\n",
       " 'San Andreas',\n",
       " 'Tomorrow Never Dies',\n",
       " 'The Patriot',\n",
       " \"Ocean's Twelve\",\n",
       " 'Mr. & Mrs. Smith',\n",
       " 'Insurgent',\n",
       " 'The Aviator',\n",
       " \"Gulliver's Travels\",\n",
       " 'The Green Hornet',\n",
       " '300: Rise of an Empire',\n",
       " 'The Smurfs',\n",
       " 'Home on the Range',\n",
       " 'Allegiant',\n",
       " 'Real Steel',\n",
       " 'The Smurfs 2',\n",
       " 'Speed 2: Cruise Control',\n",
       " \"Ender's Game\",\n",
       " 'Live Free or Die Hard',\n",
       " 'The Lord of the Rings: The Fellowship of the Ring',\n",
       " 'Around the World in 80 Days',\n",
       " 'Ali',\n",
       " 'The Cat in the Hat',\n",
       " 'I, Robot',\n",
       " 'Kingdom of Heaven',\n",
       " 'Stuart Little',\n",
       " 'The Princess and the Frog',\n",
       " 'The Martian',\n",
       " 'The Island',\n",
       " 'Town & Country',\n",
       " 'Gone in Sixty Seconds',\n",
       " 'Gladiator',\n",
       " 'Minority Report',\n",
       " 'Harry Potter and the Chamber of Secrets',\n",
       " 'Casino Royale',\n",
       " 'Planet of the Apes',\n",
       " 'Terminator 2: Judgment Day',\n",
       " 'Public Enemies',\n",
       " 'American Gangster',\n",
       " 'True Lies',\n",
       " 'The Taking of Pelham 1 2 3',\n",
       " 'Little Fockers',\n",
       " 'The Other Guys',\n",
       " 'Eraser',\n",
       " 'Django Unchained',\n",
       " 'The Hunchback of Notre Dame',\n",
       " \"The Emperor's New Groove\",\n",
       " 'The Expendables 2',\n",
       " 'National Treasure',\n",
       " 'Eragon',\n",
       " 'Where the Wild Things Are',\n",
       " 'Epic',\n",
       " 'The Tourist',\n",
       " 'End of Days',\n",
       " 'Blood Diamond',\n",
       " 'The Wolf of Wall Street',\n",
       " 'Batman Forever',\n",
       " 'Starship Troopers',\n",
       " 'Cloud Atlas',\n",
       " \"Legend of the Guardians: The Owls of Ga'Hoole\",\n",
       " 'Catwoman',\n",
       " 'Hercules',\n",
       " 'Treasure Planet',\n",
       " 'Land of the Lost',\n",
       " 'The Expendables 3',\n",
       " 'Point Break',\n",
       " 'Son of the Mask',\n",
       " 'In the Heart of the Sea',\n",
       " 'The Adventures of Pluto Nash',\n",
       " 'Green Zone',\n",
       " 'The Peanuts Movie',\n",
       " 'The Spanish Prisoner',\n",
       " 'The Mummy Returns',\n",
       " 'Gangs of New York',\n",
       " 'The Flowers of War',\n",
       " \"Surf's Up\",\n",
       " 'The Stepford Wives',\n",
       " 'Black Hawk Down',\n",
       " 'The Campaign',\n",
       " 'The Fifth Element',\n",
       " 'Sex and the City 2',\n",
       " 'The Road to El Dorado',\n",
       " 'Ice Age: Continental Drift',\n",
       " 'Cinderella',\n",
       " 'The Lovely Bones',\n",
       " 'Finding Nemo',\n",
       " 'The Lord of the Rings: The Return of the King',\n",
       " 'The Lord of the Rings: The Two Towers',\n",
       " 'Seventh Son',\n",
       " 'Lara Croft: Tomb Raider',\n",
       " 'Transcendence',\n",
       " 'Jurassic Park III',\n",
       " 'Rise of the Planet of the Apes',\n",
       " 'The Spiderwick Chronicles',\n",
       " 'A Good Day to Die Hard',\n",
       " 'The Alamo',\n",
       " 'The Incredibles',\n",
       " 'Cutthroat Island',\n",
       " 'Percy Jackson & the Olympians: The Lightning Thief',\n",
       " 'Men in Black',\n",
       " 'Toy Story 2',\n",
       " 'Unstoppable',\n",
       " 'Rush Hour 2',\n",
       " 'What Lies Beneath',\n",
       " 'Cloudy with a Chance of Meatballs',\n",
       " 'Ice Age: Dawn of the Dinosaurs',\n",
       " 'The Secret Life of Walter Mitty',\n",
       " \"Charlie's Angels\",\n",
       " 'The Departed',\n",
       " 'Mulan',\n",
       " 'Tropic Thunder',\n",
       " 'The Girl with the Dragon Tattoo',\n",
       " 'Die Hard: With a Vengeance',\n",
       " 'Sherlock Holmes',\n",
       " 'Ben-Hur',\n",
       " 'Atlantis: The Lost Empire',\n",
       " 'Alvin and the Chipmunks: The Road Chip',\n",
       " 'Valkyrie',\n",
       " \"You Don't Mess with the Zohan\",\n",
       " 'Pixels',\n",
       " 'A.I. Artificial Intelligence',\n",
       " 'The Haunted Mansion',\n",
       " 'Contact',\n",
       " 'Hollow Man',\n",
       " 'The Interpreter',\n",
       " 'Percy Jackson: Sea of Monsters',\n",
       " 'Lara Croft Tomb Raider: The Cradle of Life',\n",
       " 'Now You See Me 2',\n",
       " 'The Saint',\n",
       " 'Spy Game',\n",
       " 'Mission to Mars',\n",
       " 'Rio',\n",
       " 'Bicentennial Man',\n",
       " 'Volcano',\n",
       " \"The Devil's Own\",\n",
       " 'K-19: The Widowmaker',\n",
       " 'Conan the Barbarian',\n",
       " 'Cinderella Man',\n",
       " 'The Nutcracker: The Untold Story',\n",
       " 'Seabiscuit',\n",
       " 'Twister',\n",
       " 'Cast Away',\n",
       " 'Happy Feet',\n",
       " 'The Bourne Supremacy',\n",
       " 'Air Force One',\n",
       " \"Ocean's Eleven\",\n",
       " 'The Three Musketeers',\n",
       " 'Hotel Transylvania',\n",
       " 'Enchanted',\n",
       " 'Safe House',\n",
       " '102 Dalmatians',\n",
       " 'Tower Heist',\n",
       " 'The Holiday',\n",
       " 'Enemy of the State',\n",
       " \"It's Complicated\",\n",
       " \"Ocean's Thirteen\",\n",
       " 'Open Season',\n",
       " 'Divergent',\n",
       " 'Enemy at the Gates',\n",
       " 'The Rundown',\n",
       " 'Last Action Hero',\n",
       " 'Memoirs of a Geisha',\n",
       " 'The Fast and the Furious: Tokyo Drift',\n",
       " 'Arthur Christmas',\n",
       " 'Meet Joe Black',\n",
       " 'Collateral Damage',\n",
       " 'All That Jazz',\n",
       " 'Mirror Mirror',\n",
       " 'Scott Pilgrim vs. the World',\n",
       " 'The Core',\n",
       " 'Nutty Professor II: The Klumps',\n",
       " 'Scooby-Doo',\n",
       " 'Dredd',\n",
       " 'Click',\n",
       " 'Creepshow',\n",
       " 'Cats & Dogs 2 : The Revenge of Kitty Galore',\n",
       " 'Jumper',\n",
       " 'Hellboy II: The Golden Army',\n",
       " 'Zodiac',\n",
       " 'The 6th Day',\n",
       " 'Bruce Almighty',\n",
       " 'The Expendables',\n",
       " 'Mission: Impossible',\n",
       " 'The Hunger Games',\n",
       " 'The Hangover Part II',\n",
       " 'Batman Returns',\n",
       " 'Over the Hedge',\n",
       " 'Lilo & Stitch',\n",
       " \"Charlotte's Web\",\n",
       " 'Deep Impact',\n",
       " 'RED 2',\n",
       " 'The Longest Yard',\n",
       " 'Alvin and the Chipmunks: Chipwrecked',\n",
       " 'Grown Ups 2',\n",
       " 'Get Smart',\n",
       " \"Something's Gotta Give\",\n",
       " 'Shutter Island',\n",
       " 'Four Christmases',\n",
       " 'Robots',\n",
       " 'Face/Off',\n",
       " 'Bedtime Stories',\n",
       " 'Road to Perdition',\n",
       " 'Just Go with It',\n",
       " 'Con Air',\n",
       " 'Eagle Eye',\n",
       " 'Cold Mountain',\n",
       " 'The Book of Eli',\n",
       " 'Flubber',\n",
       " 'The Haunting',\n",
       " 'Space Jam',\n",
       " 'The Pink Panther',\n",
       " 'The Day the Earth Stood Still',\n",
       " 'Conspiracy Theory',\n",
       " 'Fury',\n",
       " 'Six Days Seven Nights',\n",
       " 'Yogi Bear',\n",
       " 'Spirit: Stallion of the Cimarron',\n",
       " 'Zookeeper',\n",
       " 'Lost in Space',\n",
       " 'The Manchurian Candidate',\n",
       " 'Déjà Vu',\n",
       " 'Hotel Transylvania 2',\n",
       " 'Fantasia 2000',\n",
       " 'The Time Machine',\n",
       " 'Mighty Joe Young',\n",
       " 'Swordfish',\n",
       " 'The Legend of Zorro',\n",
       " 'What Dreams May Come',\n",
       " 'Little Nicky',\n",
       " 'The Brothers Grimm',\n",
       " 'Mars Attacks!',\n",
       " 'Evolution',\n",
       " 'The Edge',\n",
       " 'Surrogates',\n",
       " 'Thirteen Days',\n",
       " 'Daylight',\n",
       " 'Walking With Dinosaurs',\n",
       " 'Battlefield Earth',\n",
       " 'Looney Tunes: Back in Action',\n",
       " 'Nine',\n",
       " 'Timeline',\n",
       " 'The Postman',\n",
       " 'Babe: Pig in the City',\n",
       " 'The Last Witch Hunter',\n",
       " 'Red Planet',\n",
       " 'Arthur and the Invisibles',\n",
       " 'Oceans',\n",
       " 'A Sound of Thunder',\n",
       " 'Pompeii',\n",
       " 'Top Cat Begins',\n",
       " 'A Beautiful Mind',\n",
       " 'The Lion King',\n",
       " 'Journey 2: The Mysterious Island',\n",
       " 'Cloudy with a Chance of Meatballs 2',\n",
       " 'Red Dragon',\n",
       " 'Hidalgo',\n",
       " 'Jack and Jill',\n",
       " '2 Fast 2 Furious',\n",
       " 'The Little Prince',\n",
       " 'The Invasion',\n",
       " 'The Adventures of Rocky & Bullwinkle',\n",
       " 'The Secret Life of Pets',\n",
       " 'The League of Extraordinary Gentlemen',\n",
       " 'Despicable Me 2',\n",
       " 'Independence Day',\n",
       " 'The Lost World: Jurassic Park',\n",
       " 'Madagascar',\n",
       " 'Children of Men',\n",
       " 'X-Men',\n",
       " 'Wanted',\n",
       " 'The Rock',\n",
       " 'Ice Age: The Meltdown',\n",
       " '50 First Dates',\n",
       " 'Hairspray',\n",
       " 'Exorcist: The Beginning',\n",
       " 'Inspector Gadget',\n",
       " 'Now You See Me',\n",
       " 'Grown Ups',\n",
       " 'The Terminal',\n",
       " 'Hotel for Dogs',\n",
       " 'Vertical Limit',\n",
       " \"Charlie Wilson's War\",\n",
       " 'Shark Tale',\n",
       " 'Dreamgirls',\n",
       " 'Be Cool',\n",
       " 'Munich',\n",
       " 'Tears of the Sun',\n",
       " 'Killers',\n",
       " 'The Man from U.N.C.L.E.',\n",
       " 'Spanglish',\n",
       " 'Monster House',\n",
       " 'Bandits',\n",
       " 'First Knight',\n",
       " 'Anna and the King',\n",
       " 'Immortals',\n",
       " 'Hostage',\n",
       " 'Titan A.E.',\n",
       " 'Hollywood Homicide',\n",
       " 'Soldier',\n",
       " 'Carriers',\n",
       " 'Monkeybone',\n",
       " 'Flight of the Phoenix',\n",
       " 'Unbreakable',\n",
       " 'Minions',\n",
       " 'Sucker Punch',\n",
       " 'Snake Eyes',\n",
       " 'Sphere',\n",
       " 'The Angry Birds Movie',\n",
       " \"Fool's Gold\",\n",
       " 'Funny People',\n",
       " 'The Kingdom',\n",
       " 'Talladega Nights: The Ballad of Ricky Bobby',\n",
       " 'Dr. Dolittle 2',\n",
       " 'Braveheart',\n",
       " 'Jarhead',\n",
       " 'The Simpsons Movie',\n",
       " 'The Majestic',\n",
       " 'Driven',\n",
       " 'Two Brothers',\n",
       " 'The Village',\n",
       " 'Doctor Dolittle',\n",
       " 'Signs',\n",
       " 'Shrek 2',\n",
       " 'Cars',\n",
       " 'Runaway Bride',\n",
       " 'xXx',\n",
       " 'The SpongeBob Movie: Sponge Out of Water',\n",
       " 'Ransom',\n",
       " 'Inglourious Basterds',\n",
       " 'Hook',\n",
       " 'Die Hard 2',\n",
       " 'S.W.A.T.',\n",
       " 'Vanilla Sky',\n",
       " 'Lady in the Water',\n",
       " 'AVP: Alien vs. Predator',\n",
       " 'Alvin and the Chipmunks: The Squeakquel',\n",
       " 'We Were Soldiers',\n",
       " 'Olympus Has Fallen',\n",
       " 'Star Trek: Insurrection',\n",
       " 'Battle: Los Angeles',\n",
       " 'Big Fish',\n",
       " 'Wolf',\n",
       " 'War Horse',\n",
       " 'The Monuments Men',\n",
       " 'The Abyss',\n",
       " 'Wall Street: Money Never Sleeps',\n",
       " 'Dracula Untold',\n",
       " 'The Siege',\n",
       " 'Stardust',\n",
       " 'Seven Years in Tibet',\n",
       " 'The Dilemma',\n",
       " 'Bad Company',\n",
       " 'Doom',\n",
       " 'I Spy',\n",
       " 'Underworld: Awakening',\n",
       " 'Rock of Ages',\n",
       " \"Hart's War\",\n",
       " 'Killer Elite',\n",
       " 'Rollerball',\n",
       " 'Ballistic: Ecks vs. Sever',\n",
       " 'Hard Rain',\n",
       " 'Osmosis Jones',\n",
       " \"Legends of Oz: Dorothy's Return\",\n",
       " 'Blackhat',\n",
       " 'Sky Captain and the World of Tomorrow',\n",
       " 'Basic Instinct 2',\n",
       " 'Escape Plan',\n",
       " 'The Legend of Hercules',\n",
       " 'The Sum of All Fears',\n",
       " 'The Twilight Saga: Eclipse',\n",
       " 'The Score',\n",
       " 'Despicable Me',\n",
       " 'Money Train',\n",
       " 'Ted 2',\n",
       " 'Agora',\n",
       " 'Mystery Men',\n",
       " 'Hall Pass',\n",
       " 'The Insider',\n",
       " 'The Finest Hours',\n",
       " 'Body of Lies',\n",
       " 'Dinner for Schmucks',\n",
       " 'Abraham Lincoln: Vampire Hunter',\n",
       " 'Entrapment',\n",
       " 'The X Files',\n",
       " 'The Last Legion',\n",
       " 'Saving Private Ryan',\n",
       " 'Need for Speed',\n",
       " 'What Women Want',\n",
       " 'Ice Age',\n",
       " 'Dreamcatcher',\n",
       " 'Lincoln',\n",
       " 'The Matrix',\n",
       " 'Apollo 13',\n",
       " 'The Santa Clause 2',\n",
       " 'Les Misérables',\n",
       " \"You've Got Mail\",\n",
       " 'Step Brothers',\n",
       " 'The Mask of Zorro',\n",
       " 'Due Date',\n",
       " 'Unbroken',\n",
       " 'Space Cowboys',\n",
       " 'Cliffhanger',\n",
       " 'Broken Arrow',\n",
       " 'The Kid',\n",
       " 'World Trade Center',\n",
       " 'Mona Lisa Smile',\n",
       " 'The Dictator',\n",
       " 'Eyes Wide Shut',\n",
       " 'Annie',\n",
       " 'Focus',\n",
       " 'This Means War',\n",
       " 'Blade: Trinity',\n",
       " 'Red Dawn',\n",
       " 'Primary Colors',\n",
       " 'Resident Evil: Retribution',\n",
       " 'Death Race',\n",
       " 'The Long Kiss Goodnight',\n",
       " 'Proof of Life',\n",
       " 'Zathura: A Space Adventure',\n",
       " 'Fight Club',\n",
       " 'We Are Marshall',\n",
       " 'Hudson Hawk',\n",
       " 'Lucky Numbers',\n",
       " 'I, Frankenstein',\n",
       " 'Oliver Twist',\n",
       " 'Elektra',\n",
       " 'Sin City: A Dame to Kill For',\n",
       " 'Random Hearts',\n",
       " 'Everest',\n",
       " 'Perfume: The Story of a Murderer',\n",
       " 'Austin Powers in Goldmember',\n",
       " 'Astro Boy',\n",
       " 'Jurassic Park',\n",
       " 'Wyatt Earp',\n",
       " 'Clear and Present Danger',\n",
       " 'Dragon Blade',\n",
       " 'Little Man',\n",
       " 'U-571',\n",
       " 'The American President',\n",
       " 'The Love Guru',\n",
       " '3000 Miles to Graceland',\n",
       " 'The Hateful Eight',\n",
       " 'Blades of Glory',\n",
       " 'Hop',\n",
       " '300',\n",
       " 'Meet the Fockers',\n",
       " 'Marley & Me',\n",
       " 'The Green Mile',\n",
       " 'Wild Hogs',\n",
       " 'Chicken Little',\n",
       " 'Gone Girl',\n",
       " 'The Bourne Identity',\n",
       " 'GoldenEye',\n",
       " \"The General's Daughter\",\n",
       " 'The Truman Show',\n",
       " 'The Prince of Egypt',\n",
       " 'Daddy Day Care',\n",
       " '2 Guns',\n",
       " 'Cats & Dogs',\n",
       " 'The Italian Job',\n",
       " 'Two Weeks Notice',\n",
       " 'Antz',\n",
       " 'Couples Retreat',\n",
       " 'Days of Thunder',\n",
       " 'Cheaper by the Dozen 2',\n",
       " 'Maze Runner: The Scorch Trials',\n",
       " 'Eat Pray Love',\n",
       " 'The Family Man',\n",
       " 'RED',\n",
       " 'Any Given Sunday',\n",
       " 'The Horse Whisperer',\n",
       " 'Collateral',\n",
       " 'The Scorpion King',\n",
       " 'Ladder 49',\n",
       " 'Jack Reacher',\n",
       " 'Deep Blue Sea',\n",
       " 'This Is It',\n",
       " 'Contagion',\n",
       " 'Kangaroo Jack',\n",
       " 'Coraline',\n",
       " 'The Happening',\n",
       " 'Man on Fire',\n",
       " 'The Shaggy Dog',\n",
       " 'Starsky & Hutch',\n",
       " 'Jingle All the Way',\n",
       " 'Hellboy',\n",
       " 'A Civil Action',\n",
       " 'ParaNorman',\n",
       " 'The Jackal',\n",
       " 'Paycheck',\n",
       " 'Up Close & Personal',\n",
       " 'The Tale of Despereaux',\n",
       " 'The Tuxedo',\n",
       " 'Under Siege 2: Dark Territory',\n",
       " 'Jack Ryan: Shadow Recruit',\n",
       " 'Joy',\n",
       " 'London Has Fallen',\n",
       " 'Alien: Resurrection',\n",
       " 'Shooter',\n",
       " 'The Boxtrolls',\n",
       " 'Practical Magic',\n",
       " 'The Lego Movie',\n",
       " 'Miss Congeniality 2: Armed and Fabulous',\n",
       " 'Reign of Fire',\n",
       " 'Gangster Squad',\n",
       " 'Year One',\n",
       " 'Invictus',\n",
       " 'State of Play',\n",
       " 'Duplicity',\n",
       " 'My Favorite Martian',\n",
       " 'The Sentinel',\n",
       " 'Planet 51',\n",
       " 'Star Trek: Nemesis',\n",
       " 'Intolerable Cruelty',\n",
       " 'Trouble with the Curve',\n",
       " 'Edge of Darkness',\n",
       " 'The Relic',\n",
       " 'Analyze That',\n",
       " 'Righteous Kill',\n",
       " 'Mercury Rising',\n",
       " 'The Soloist',\n",
       " 'The Legend of Bagger Vance',\n",
       " 'Almost Famous',\n",
       " 'Garfield: A Tail of Two Kitties',\n",
       " 'xXx: State of the Union',\n",
       " 'Priest',\n",
       " 'Sinbad: Legend of the Seven Seas',\n",
       " 'Event Horizon',\n",
       " 'Dragonfly',\n",
       " 'The Black Dahlia',\n",
       " 'Flyboys',\n",
       " 'The Last Castle',\n",
       " 'Supernova',\n",
       " \"Winter's Tale\",\n",
       " 'The Mortal Instruments: City of Bones',\n",
       " 'Meet Dave',\n",
       " 'Dark Water',\n",
       " 'Edtv',\n",
       " 'Inkheart',\n",
       " 'The Spirit',\n",
       " 'Mortdecai',\n",
       " 'In the Name of the King: A Dungeon Siege Tale',\n",
       " 'Beyond Borders',\n",
       " 'The Monkey King 2',\n",
       " 'The Great Raid',\n",
       " 'Deadpool',\n",
       " 'Holy Man',\n",
       " 'American Sniper',\n",
       " 'Goosebumps',\n",
       " 'Just Like Heaven',\n",
       " 'The Flintstones in Viva Rock Vegas',\n",
       " 'Rambo III',\n",
       " 'Leatherheads',\n",
       " 'The Ridiculous 6',\n",
       " 'Did You Hear About the Morgans?',\n",
       " 'The Internship',\n",
       " 'Resident Evil: Afterlife',\n",
       " 'Red Tails',\n",
       " \"The Devil's Advocate\",\n",
       " \"That's My Boy\",\n",
       " 'DragonHeart',\n",
       " 'After the Sunset',\n",
       " 'Ghost Rider: Spirit of Vengeance',\n",
       " \"Captain Corelli's Mandolin\",\n",
       " 'The Pacifier',\n",
       " 'Walking Tall',\n",
       " 'Forrest Gump',\n",
       " 'Alvin and the Chipmunks',\n",
       " 'Meet the Parents',\n",
       " 'Pocahontas',\n",
       " 'Superman',\n",
       " 'The Nutty Professor',\n",
       " 'Hitch',\n",
       " 'George of the Jungle',\n",
       " 'American Wedding',\n",
       " 'Captain Phillips',\n",
       " 'Date Night',\n",
       " 'Casper',\n",
       " 'The Equalizer',\n",
       " 'Maid in Manhattan',\n",
       " 'Crimson Tide',\n",
       " 'The Pursuit of Happyness',\n",
       " 'Flightplan',\n",
       " 'Disclosure',\n",
       " 'City of Angels',\n",
       " 'Kill Bill: Vol. 1',\n",
       " 'Bowfinger',\n",
       " 'Kill Bill: Vol. 2',\n",
       " 'Tango & Cash',\n",
       " 'Death Becomes Her',\n",
       " 'Shanghai Noon',\n",
       " 'Executive Decision',\n",
       " \"Mr. Popper's Penguins\",\n",
       " 'The Forbidden Kingdom',\n",
       " 'Free Birds',\n",
       " 'Alien³',\n",
       " 'Evita',\n",
       " 'Ronin',\n",
       " 'The Ghost and the Darkness',\n",
       " 'Paddington',\n",
       " 'The Watch',\n",
       " 'The Hunted',\n",
       " 'Instinct',\n",
       " 'Stuck on You',\n",
       " 'Semi-Pro',\n",
       " 'The Pirates! In an Adventure with Scientists!',\n",
       " 'Changeling',\n",
       " 'Chain Reaction',\n",
       " 'The Fan',\n",
       " 'The Phantom of the Opera',\n",
       " 'Elizabeth: The Golden Age',\n",
       " 'Æon Flux',\n",
       " 'Gods and Generals',\n",
       " 'Turbulence',\n",
       " 'Imagine That',\n",
       " 'Muppets Most Wanted',\n",
       " 'Thunderbirds',\n",
       " 'Burlesque',\n",
       " 'A Very Long Engagement',\n",
       " 'Lolita',\n",
       " 'D-Tox',\n",
       " 'Blade II',\n",
       " 'Seven Pounds',\n",
       " 'Bullet to the Head',\n",
       " 'The Godfather: Part III',\n",
       " 'Elizabethtown',\n",
       " 'You, Me and Dupree',\n",
       " 'Superman II',\n",
       " 'Gigli',\n",
       " \"All the King's Men\",\n",
       " 'Shaft',\n",
       " 'Anastasia',\n",
       " 'Moulin Rouge!',\n",
       " 'Domestic Disturbance',\n",
       " 'Black Mass',\n",
       " 'Flags of Our Fathers',\n",
       " 'Law Abiding Citizen',\n",
       " 'Grindhouse',\n",
       " 'Beloved',\n",
       " 'Lucky You',\n",
       " 'Catch Me If You Can',\n",
       " 'Zero Dark Thirty',\n",
       " 'The Break-Up',\n",
       " 'Mamma Mia!',\n",
       " \"Valentine's Day\",\n",
       " 'The Dukes of Hazzard',\n",
       " 'The Thin Red Line',\n",
       " 'The Change-Up',\n",
       " 'Man on the Moon',\n",
       " 'Casino',\n",
       " 'From Paris with Love',\n",
       " 'Bulletproof Monk',\n",
       " 'Me, Myself & Irene',\n",
       " 'Barnyard',\n",
       " 'Deck the Halls',\n",
       " 'The Twilight Saga: New Moon',\n",
       " 'Shrek',\n",
       " 'The Adjustment Bureau',\n",
       " 'Robin Hood: Prince of Thieves',\n",
       " 'Jerry Maguire',\n",
       " 'Ted',\n",
       " 'As Good as It Gets',\n",
       " 'Patch Adams',\n",
       " 'Anchorman 2: The Legend Continues',\n",
       " 'Mr. Deeds',\n",
       " 'Super 8',\n",
       " 'Erin Brockovich',\n",
       " 'How to Lose a Guy in 10 Days',\n",
       " '22 Jump Street',\n",
       " 'Interview with the Vampire',\n",
       " 'Yes Man',\n",
       " 'Central Intelligence',\n",
       " 'Stepmom',\n",
       " \"Daddy's Home\",\n",
       " 'Into the Woods',\n",
       " 'Inside Man',\n",
       " 'Payback',\n",
       " 'Congo',\n",
       " 'We Bought a Zoo',\n",
       " 'Knowing',\n",
       " 'Failure to Launch',\n",
       " 'The Ring Two',\n",
       " 'Crazy, Stupid, Love.',\n",
       " 'Garfield',\n",
       " 'Christmas with the Kranks',\n",
       " 'Moneyball',\n",
       " 'Outbreak',\n",
       " 'Non-Stop',\n",
       " 'Race to Witch Mountain',\n",
       " 'V for Vendetta',\n",
       " 'Shanghai Knights',\n",
       " 'Curious George',\n",
       " 'Herbie Fully Loaded',\n",
       " \"Don't Say a Word\",\n",
       " 'Hansel & Gretel: Witch Hunters',\n",
       " 'Unfaithful',\n",
       " 'I Am Number Four',\n",
       " 'Syriana',\n",
       " '13 Hours: The Secret Soldiers of Benghazi',\n",
       " 'The Book of Life',\n",
       " 'Firewall',\n",
       " 'Absolute Power',\n",
       " 'G.I. Jane',\n",
       " 'The Game',\n",
       " 'Silent Hill',\n",
       " 'The Replacements',\n",
       " 'American Reunion',\n",
       " 'The Negotiator',\n",
       " 'Into the Storm',\n",
       " 'Beverly Hills Cop III',\n",
       " 'Gremlins 2: The New Batch',\n",
       " 'The Judge',\n",
       " 'The Peacemaker',\n",
       " 'Resident Evil: Apocalypse',\n",
       " 'Bridget Jones: The Edge of Reason',\n",
       " 'Out of Time',\n",
       " 'On Deadly Ground',\n",
       " 'The Adventures of Sharkboy and Lavagirl',\n",
       " 'The Beach',\n",
       " 'Raising Helen',\n",
       " 'Ninja Assassin',\n",
       " 'For Love of the Game',\n",
       " 'Striptease',\n",
       " 'Marmaduke',\n",
       " 'Hereafter',\n",
       " 'Murder by Numbers',\n",
       " 'Assassins',\n",
       " 'Hannibal Rising',\n",
       " 'The Story of Us',\n",
       " 'The Host',\n",
       " 'The Host',\n",
       " 'Basic',\n",
       " 'Blood Work',\n",
       " 'The International',\n",
       " 'Escape from L.A.',\n",
       " 'The Iron Giant',\n",
       " 'The Life Aquatic with Steve Zissou',\n",
       " 'Free State of Jones',\n",
       " 'The Life of David Gale',\n",
       " 'Man of the House',\n",
       " 'Run All Night',\n",
       " 'Eastern Promises',\n",
       " 'Into the Blue',\n",
       " 'The Messenger: The Story of Joan of Arc',\n",
       " 'Your Highness',\n",
       " 'Dream House',\n",
       " 'Mad City',\n",
       " \"Baby's Day Out\",\n",
       " 'The Scarlet Letter',\n",
       " 'Fair Game',\n",
       " 'Domino',\n",
       " 'Jade',\n",
       " 'Gamer',\n",
       " 'Beautiful Creatures',\n",
       " 'Death to Smoochy',\n",
       " 'Zoolander 2',\n",
       " 'The Big Bounce',\n",
       " ...]"
      ]
     },
     "execution_count": 171,
     "metadata": {},
     "output_type": "execute_result"
    }
   ],
   "source": [
    "list(new_df['title'].values)"
   ]
  },
  {
   "cell_type": "code",
   "execution_count": null,
   "metadata": {
    "trusted": true
   },
   "outputs": [],
   "source": []
  }
 ],
 "metadata": {
  "kaggle": {
   "accelerator": "none",
   "dataSources": [
    {
     "datasetId": 138,
     "sourceId": 4508,
     "sourceType": "datasetVersion"
    }
   ],
   "dockerImageVersionId": 31089,
   "isGpuEnabled": false,
   "isInternetEnabled": true,
   "language": "python",
   "sourceType": "notebook"
  },
  "kernelspec": {
   "display_name": "Python 3",
   "language": "python",
   "name": "python3"
  },
  "language_info": {
   "codemirror_mode": {
    "name": "ipython",
    "version": 3
   },
   "file_extension": ".py",
   "mimetype": "text/x-python",
   "name": "python",
   "nbconvert_exporter": "python",
   "pygments_lexer": "ipython3",
   "version": "3.11.13"
  }
 },
 "nbformat": 4,
 "nbformat_minor": 4
}
